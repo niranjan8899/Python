{
 "cells": [
  {
   "cell_type": "code",
   "execution_count": 45,
   "id": "84e3c5d0-8fa4-40ea-9dda-f8f02e90b481",
   "metadata": {},
   "outputs": [
    {
     "name": "stdout",
     "output_type": "stream",
     "text": [
      "[1, 23, 456, 7890]\n",
      "[2, 3, 4, 5, 6, 7, 8, 9, 0]\n",
      "[1, 5, 10, 15, 20, 25, 30, 35, 40, 45, 50, 55, 60]\n",
      "[30, 40, 50, 60, 70, 80, 90]\n",
      "[101, 201, 301, 401, 501, 601]\n",
      "3\n",
      "4\n",
      "[1, 1, 2, 2, 3, 3, 3, 3, 3, 3, 4, 4, 4, 4, 5, 5, 6, 6, 6, 6, 7, 7, 12, 12, 12, 12, 56, 56]\n",
      "[1, 11, 1, 1, 1, 1, 1, 891291891, 8912, 8712, 673, 17612, 6521]\n"
     ]
    }
   ],
   "source": [
    "#1.append\n",
    "a=[1,23,456]\n",
    "a.append(7890)\n",
    "print(a)\n",
    "\n",
    "#2.extend\n",
    "_a=[1,2,3,4,5,6,7,8]\n",
    "_b=[2,3,4,5,6,7,8,9,0]\n",
    "_a.extend(_b)\n",
    "print(_b)\n",
    "\n",
    "#3.insert\n",
    "age=[1,5,10,15,20,30,35,40,45,50,55,60]\n",
    "age.insert(5,25)\n",
    "print(age)\n",
    "\n",
    "#4.remove\n",
    "weight=[30,40,50,60,70,80,90,100]\n",
    "weight.remove(100)\n",
    "print(weight)\n",
    "\n",
    "#5.pop\n",
    "room_no=[101,201,301,401,402,501,601,602]\n",
    "room_no.pop(4)\n",
    "room_no.pop()\n",
    "print(room_no)\n",
    "\n",
    "#6.index\n",
    "_123=[632,65,79,61,22,32,65,79,61,22]\n",
    "index=_123.index(61)\n",
    "print(index)\n",
    "\n",
    "#7.count\n",
    "duplicate=[1,2,3,12,3,4,5,6,12,3,4,56,6,7,1,2,3,12,3,4,5,6,12,3,4,56,6,7]\n",
    "print(duplicate.count(12))\n",
    "\n",
    "#8.sort\n",
    "order=[1,2,3,12,3,4,5,6,12,3,4,56,6,7,1,2,3,12,3,4,5,6,12,3,4,56,6,7]\n",
    "order.sort()\n",
    "print(order)\n",
    "\n",
    "#9.reverse\n",
    "rev_list_1=[6521,17612,673,8712,8912,891291891,1,1,1,1,1,11,1]\n",
    "rev_list_1.reverse()\n",
    "print(rev_list_1)"
   ]
  },
  {
   "cell_type": "code",
   "execution_count": 51,
   "id": "a8d2cd3a-dc0d-46ae-84fb-367e6049e230",
   "metadata": {},
   "outputs": [
    {
     "name": "stdout",
     "output_type": "stream",
     "text": [
      "[]\n",
      "['lohit', 'food', 'fun']\n"
     ]
    }
   ],
   "source": [
    "#10.clear\n",
    "list1=[1,2,3,4,'a','b',\"anil\",\"anil123\"]\n",
    "list1.clear()\n",
    "print(list1)\n",
    "\n",
    "#11.copy\n",
    "list2=['lohit','food','fun']\n",
    "copy=list2.copy()\n",
    "print(copy)\n"
   ]
  },
  {
   "cell_type": "code",
   "execution_count": null,
   "id": "73016470-c6c3-4790-a384-2f0349870f02",
   "metadata": {},
   "outputs": [],
   "source": []
  }
 ],
 "metadata": {
  "kernelspec": {
   "display_name": "Python 3 (ipykernel)",
   "language": "python",
   "name": "python3"
  },
  "language_info": {
   "codemirror_mode": {
    "name": "ipython",
    "version": 3
   },
   "file_extension": ".py",
   "mimetype": "text/x-python",
   "name": "python",
   "nbconvert_exporter": "python",
   "pygments_lexer": "ipython3",
   "version": "3.12.4"
  }
 },
 "nbformat": 4,
 "nbformat_minor": 5
}
