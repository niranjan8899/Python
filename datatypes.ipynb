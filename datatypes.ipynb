{
 "cells": [
  {
   "cell_type": "code",
   "execution_count": 3,
   "id": "24052b4d-0fc2-4120-b091-68379e5a57c6",
   "metadata": {},
   "outputs": [],
   "source": [
    "#integers\n",
    "a=10\n",
    "b=22\n",
    "c=33\n",
    "d=43\n",
    "e=56\n",
    "f=67\n",
    "g=78\n",
    "h=81\n",
    "i=91\n",
    "j=108\n",
    "\n",
    "#float\n",
    "a=1.2\n",
    "b=2.3\n",
    "c=3.4\n",
    "d=4.5\n",
    "e=5.6\n",
    "f=6.77\n",
    "g=7.888\n",
    "h=8.9999\n",
    "i=9.00111\n",
    "j=10.0111111\n",
    "\n",
    "#complex\n",
    "abc=1+0j\n",
    "bcd=2+1j\n",
    "cde=3+2j\n",
    "deff=4+3j\n",
    "efg=5+4j\n",
    "fgh=6165673891+5j\n",
    "ghi=7+6631j\n",
    "hij=81318+7j\n",
    "ijk=67621j\n",
    "j_1567=2615j"
   ]
  },
  {
   "cell_type": "code",
   "execution_count": 5,
   "id": "85b487d0-5df2-465b-b39f-c254afda9e49",
   "metadata": {
    "scrolled": true
   },
   "outputs": [
    {
     "name": "stdout",
     "output_type": "stream",
     "text": [
      "100.0\n",
      "2022.0\n",
      "56212.0\n",
      "537.0\n",
      "100.0\n",
      "7.0\n",
      "10065.0\n",
      "344356562.0\n",
      "87892637863.0\n",
      "8.82929977544579e+17\n"
     ]
    }
   ],
   "source": [
    "#type conversions\n",
    "#int-->float\n",
    "a1=100\n",
    "A=float(a1)\n",
    "print(A)\n",
    "b2=2022\n",
    "B=float(b2)\n",
    "print(B)\n",
    "c3=56212\n",
    "C=float(c3)\n",
    "print(C)\n",
    "d4=537\n",
    "D=float(d4)\n",
    "print(D)\n",
    "e5=100\n",
    "E=float(e5)\n",
    "print(E)\n",
    "f6=7\n",
    "F=float(f6)\n",
    "print(F)\n",
    "g7=10065\n",
    "G=float(g7)\n",
    "print(G)\n",
    "h8=344356562\n",
    "H=float(h8)\n",
    "print(H)\n",
    "i9=87892637863\n",
    "I=float(i9)\n",
    "print(I)\n",
    "j10=882929977544578900\n",
    "J=float(j10)\n",
    "print(J)\n",
    "\n",
    "\n"
   ]
  },
  {
   "cell_type": "code",
   "execution_count": 11,
   "id": "10c4eef7-40ad-45b0-bb16-506105d9640e",
   "metadata": {},
   "outputs": [
    {
     "name": "stdout",
     "output_type": "stream",
     "text": [
      "2\n",
      "0\n",
      "652\n",
      "653\n",
      "8\n",
      "21\n",
      "72\n",
      "76178267\n",
      "5562\n",
      "556128\n"
     ]
    }
   ],
   "source": [
    "#float-->int\n",
    "_a=2.22\n",
    "_1=int(_a)\n",
    "print(_1)\n",
    "_b=0.6622\n",
    "_2=int(_b)\n",
    "print(_2)\n",
    "_c=652.1\n",
    "_3=int(_c)\n",
    "print(_3)\n",
    "_d=653.7892\n",
    "_4=int(_d)\n",
    "print(_4)\n",
    "_e=8.900000\n",
    "_5=int(_e)\n",
    "print(_5)\n",
    "_f=21.87678\n",
    "_6=int(_f)\n",
    "print(_6)\n",
    "_g=72.888202\n",
    "_7=int(_g)\n",
    "print(_7)\n",
    "_h=76178267.21\n",
    "_8=int(_h)\n",
    "print(_8)\n",
    "_i=5562.7891\n",
    "_9=int(_i)\n",
    "print(_9)\n",
    "_i=556128.6721\n",
    "_10=int(_i)\n",
    "print(_10)"
   ]
  },
  {
   "cell_type": "code",
   "execution_count": 17,
   "id": "85811478-6289-4271-8e5c-144e90325daa",
   "metadata": {},
   "outputs": [
    {
     "name": "stdout",
     "output_type": "stream",
     "text": [
      "(1+0j)\n",
      "(2+0j)\n",
      "(5623+0j)\n",
      "(67768+0j)\n",
      "(65819619+0j)\n",
      "(2.538+0j)\n",
      "(551.6718+0j)\n",
      "(621.6568712+0j)\n",
      "(62.719878+0j)\n",
      "(1517621+0j)\n"
     ]
    }
   ],
   "source": [
    "#int-->complex and flaot-->complex\n",
    "a_1=1\n",
    "air=complex(a_1)\n",
    "print(air)\n",
    "\n",
    "b_2=2\n",
    "beer=complex(b_2)\n",
    "print(beer)\n",
    "\n",
    "c_3=5623\n",
    "car=complex(c_3)\n",
    "print(car)\n",
    "\n",
    "d_4=67768\n",
    "dear=complex(d_4)\n",
    "print(dear)\n",
    "\n",
    "e_5=65819619\n",
    "elephant=complex(e_5)\n",
    "print(elephant)\n",
    "\n",
    "f_6=2.538\n",
    "fang=complex(f_6)\n",
    "print(fang)\n",
    "\n",
    "g_7=551.6718\n",
    "giant=complex(g_7)\n",
    "print(giant)\n",
    "\n",
    "h_8=621.6568712\n",
    "height=complex(h_8)\n",
    "print(height)\n",
    "\n",
    "i_9=62.719878\n",
    "ion=complex(i_9)\n",
    "print(ion)\n",
    "\n",
    "j_10=1517621.000000000\n",
    "joker=complex(j_10)\n",
    "print(joker)"
   ]
  },
  {
   "cell_type": "code",
   "execution_count": 21,
   "id": "1246abfe-d8b8-459f-bc06-bfc58b2712a4",
   "metadata": {},
   "outputs": [
    {
     "name": "stdout",
     "output_type": "stream",
     "text": [
      "False\n",
      "False\n",
      "True\n",
      "True\n",
      "True\n",
      "True\n",
      "False\n",
      "True\n",
      "0\n",
      "1\n"
     ]
    }
   ],
   "source": [
    "#Booleans\n",
    "print(1>10)\n",
    "print(100==1)\n",
    "print(10>8)\n",
    "print(10!=9)\n",
    "print(101>=101)\n",
    "print(7<9832719)\n",
    "print(1==2)\n",
    "print(108>=1)\n",
    "print(71278)\n",
    "print(1)"
   ]
  },
  {
   "cell_type": "code",
   "execution_count": null,
   "id": "9bfe0629-f18e-4d79-8ccf-97b0bc02c1ab",
   "metadata": {},
   "outputs": [],
   "source": []
  }
 ],
 "metadata": {
  "kernelspec": {
   "display_name": "Python 3 (ipykernel)",
   "language": "python",
   "name": "python3"
  },
  "language_info": {
   "codemirror_mode": {
    "name": "ipython",
    "version": 3
   },
   "file_extension": ".py",
   "mimetype": "text/x-python",
   "name": "python",
   "nbconvert_exporter": "python",
   "pygments_lexer": "ipython3",
   "version": "3.12.4"
  }
 },
 "nbformat": 4,
 "nbformat_minor": 5
}
