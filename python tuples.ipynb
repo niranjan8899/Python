{
 "cells": [
  {
   "cell_type": "code",
   "execution_count": 1,
   "id": "4b2e6ac9-acfa-4a41-889f-0f5021b9e0ee",
   "metadata": {},
   "outputs": [],
   "source": [
    "#python tuples\n",
    "my_tuple=(1,\"anil\",\"20me1A\",\"banana\")\n",
    "\n",
    "#passing single value in tuple\n",
    "single_val_tuple=(\"Niranjan\",)"
   ]
  },
  {
   "cell_type": "code",
   "execution_count": 15,
   "id": "89bfa80c-4567-4b6a-8c2d-c14f775154ac",
   "metadata": {},
   "outputs": [
    {
     "name": "stdout",
     "output_type": "stream",
     "text": [
      "anil\n",
      "20me1A\n"
     ]
    },
    {
     "data": {
      "text/plain": [
       "('anil', '20me1A')"
      ]
     },
     "execution_count": 15,
     "metadata": {},
     "output_type": "execute_result"
    }
   ],
   "source": [
    "#accessing tuples\n",
    "print(my_tuple[1])\n",
    "print(my_tuple[-2])\n",
    "my_tuple[1:3]"
   ]
  },
  {
   "cell_type": "code",
   "execution_count": 23,
   "id": "4792754a-d973-41d9-b335-4d02ea5abaa7",
   "metadata": {},
   "outputs": [
    {
     "name": "stdout",
     "output_type": "stream",
     "text": [
      "('niranjan', 'lohith', 'ashwin', 1, 2, 3, 4, 5, 6, 7, 8, 9, 10)\n",
      "('niranjan', 'lohith', 'ashwin', 'niranjan', 'lohith', 'ashwin', 'niranjan', 'lohith', 'ashwin', 'niranjan', 'lohith', 'ashwin', 'niranjan', 'lohith', 'ashwin')\n",
      "(1, 2, 3, 4, 5, 6, 7, 8, 9, 10, 1, 2, 3, 4, 5, 6, 7, 8, 9, 10, 1, 2, 3, 4, 5, 6, 7, 8, 9, 10, 1, 2, 3, 4, 5, 6, 7, 8, 9, 10, 1, 2, 3, 4, 5, 6, 7, 8, 9, 10, 1, 2, 3, 4, 5, 6, 7, 8, 9, 10, 1, 2, 3, 4, 5, 6, 7, 8, 9, 10, 1, 2, 3, 4, 5, 6, 7, 8, 9, 10, 1, 2, 3, 4, 5, 6, 7, 8, 9, 10, 1, 2, 3, 4, 5, 6, 7, 8, 9, 10)\n"
     ]
    }
   ],
   "source": [
    "#Tuple operations\n",
    "#1.concatenation\n",
    "tuple_1=(\"niranjan\",\"lohith\",\"ashwin\")\n",
    "tuple_2=(1,2,3,4,5,6,7,8,9,10)\n",
    "print(tuple_1 + tuple_2)\n",
    "\n",
    "#2.repetition\n",
    "print(tuple_1 * 5)\n",
    "print(tuple_2 * 10)"
   ]
  },
  {
   "cell_type": "code",
   "execution_count": 55,
   "id": "866e22f3-1f6c-4c67-9898-a8e84f0ba366",
   "metadata": {},
   "outputs": [
    {
     "name": "stdout",
     "output_type": "stream",
     "text": [
      "2\n",
      "0\n",
      "[1, 4, 6, 12, 55, 65, 632]\n",
      "7\n",
      "('weight', 'age', 'gender', 'ethnicity')\n",
      "743\n",
      "2\n"
     ]
    }
   ],
   "source": [
    "#tuple methods\n",
    "#1.count\n",
    "my_tuple=(\"height\",\"weight\",\"age\",\"gender\",\"ethnicity\",\"height\")\n",
    "print(my_tuple.count(\"height\"))\n",
    "\n",
    "#2.index\n",
    "my_tuple=(\"height\",\"weight\",\"age\",\"gender\",\"ethnicity\",\"height\")\n",
    "print(my_tuple.index(\"height\"))\n",
    "\n",
    "#3.sorted\n",
    "a=(1,12,4,6,55,65,632)\n",
    "x=sorted(a)\n",
    "print(x)\n",
    "\n",
    "#4.length\n",
    "y=len(a)\n",
    "print(y)\n",
    "\n",
    "#5.slicing\n",
    "slice=my_tuple[1:5]\n",
    "print(slice)\n",
    "\n",
    "#6.max\n",
    "values=(2,323,45,63,2,46,743)\n",
    "print(max(values))\n",
    "\n",
    "#7.min\n",
    "print(min(values))"
   ]
  },
  {
   "cell_type": "code",
   "execution_count": null,
   "id": "400b5c38-fd35-41ab-9543-39034002bb05",
   "metadata": {},
   "outputs": [],
   "source": []
  }
 ],
 "metadata": {
  "kernelspec": {
   "display_name": "Python 3 (ipykernel)",
   "language": "python",
   "name": "python3"
  },
  "language_info": {
   "codemirror_mode": {
    "name": "ipython",
    "version": 3
   },
   "file_extension": ".py",
   "mimetype": "text/x-python",
   "name": "python",
   "nbconvert_exporter": "python",
   "pygments_lexer": "ipython3",
   "version": "3.12.4"
  }
 },
 "nbformat": 4,
 "nbformat_minor": 5
}
