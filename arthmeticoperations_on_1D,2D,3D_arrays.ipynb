{
 "cells": [
  {
   "cell_type": "code",
   "execution_count": 3,
   "id": "7a09b041-2b21-4193-86ab-774d21676119",
   "metadata": {},
   "outputs": [],
   "source": [
    "import numpy as np"
   ]
  },
  {
   "cell_type": "code",
   "execution_count": null,
   "id": "3f795fb5-6078-43f2-ab83-7acabad59cf6",
   "metadata": {},
   "outputs": [],
   "source": [
    "#arthmetic operations on 1D array"
   ]
  },
  {
   "cell_type": "code",
   "execution_count": 15,
   "id": "0c2708b4-9fc2-431b-9a27-1437370ddcd1",
   "metadata": {},
   "outputs": [
    {
     "name": "stdout",
     "output_type": "stream",
     "text": [
      "[  3  55   7  58  10 989]\n"
     ]
    },
    {
     "data": {
      "text/plain": [
       "array([  3,  55,   7,  58,  10, 989])"
      ]
     },
     "execution_count": 15,
     "metadata": {},
     "output_type": "execute_result"
    }
   ],
   "source": [
    "#addition\n",
    "arr1=np.array([1,22,3,3,4,212])\n",
    "arr2=np.array([2,33,4,55,6,777])\n",
    "print(arr1+arr2)\n",
    "np.add(arr1,arr2)"
   ]
  },
  {
   "cell_type": "code",
   "execution_count": 21,
   "id": "76943c77-cdfe-4f06-85b6-3445c47602b7",
   "metadata": {},
   "outputs": [
    {
     "name": "stdout",
     "output_type": "stream",
     "text": [
      "[  1  11   1  52   2 565]\n"
     ]
    },
    {
     "data": {
      "text/plain": [
       "array([  -1,  -11,   -1,  -52,   -2, -565])"
      ]
     },
     "execution_count": 21,
     "metadata": {},
     "output_type": "execute_result"
    }
   ],
   "source": [
    "#suntraction\n",
    "arr1=np.array([2,33,4,55,6,777])\n",
    "arr2=np.array([1,22,3,3,4,212])\n",
    "print(arr1-arr2)\n",
    "np.subtract(arr2,arr1)"
   ]
  },
  {
   "cell_type": "code",
   "execution_count": 23,
   "id": "145fc8bb-3c44-4f03-bdfa-b17fdfdea1fe",
   "metadata": {},
   "outputs": [
    {
     "name": "stdout",
     "output_type": "stream",
     "text": [
      "[  4  99  16 280  36]\n",
      "[  6   9  12 168  18]\n",
      "[ 6 99 12 15 18]\n",
      "[  4  99  16 280  36]\n"
     ]
    }
   ],
   "source": [
    "#multiplication\n",
    "arr1=np.array([2,3,4,56,6])\n",
    "n=3\n",
    "arr2=np.array([2,33,4,5,6])\n",
    "print(arr1*arr2)\n",
    "print(arr1*n)\n",
    "print(n*arr2)\n",
    "print(np.multiply(arr1,arr2))"
   ]
  },
  {
   "cell_type": "code",
   "execution_count": 25,
   "id": "eb4a3805-bb1a-4f19-952c-186df422ca65",
   "metadata": {},
   "outputs": [
    {
     "name": "stdout",
     "output_type": "stream",
     "text": [
      "[11.   1.  11.  11.2 11. ]\n",
      "[ 7.33333333 11.         14.66666667 18.66666667 22.        ]\n",
      "[1.5        0.09090909 0.75       0.6        0.5       ]\n",
      "[11.   1.  11.  11.2 11. ]\n"
     ]
    }
   ],
   "source": [
    "#division\n",
    "arr1=np.array([22,33,44,56,66])\n",
    "n=3\n",
    "arr2=np.array([2,33,4,5,6])\n",
    "print(arr1/arr2)\n",
    "print(arr1/n)\n",
    "print(n/arr2)\n",
    "print(np.divide(arr1,arr2))"
   ]
  },
  {
   "cell_type": "code",
   "execution_count": 29,
   "id": "cce0576c-124d-4616-8919-7a1048a83f8d",
   "metadata": {},
   "outputs": [
    {
     "name": "stdout",
     "output_type": "stream",
     "text": [
      "[11  1 11 11 11]\n",
      "[ 7 11 14 18 22]\n",
      "[1 0 0 0 0]\n",
      "[11  1 11 11 11]\n"
     ]
    }
   ],
   "source": [
    "#floor division\n",
    "arr1=np.array([22,33,44,56,66])\n",
    "n=3\n",
    "arr2=np.array([2,33,4,5,6])\n",
    "print(arr1//arr2)\n",
    "print(arr1//n)\n",
    "print(n//arr2)\n",
    "print(np.floor_divide(arr1,arr2))"
   ]
  },
  {
   "cell_type": "code",
   "execution_count": 37,
   "id": "b5151e79-2e1f-49cf-a659-86ebfa66edca",
   "metadata": {},
   "outputs": [
    {
     "name": "stdout",
     "output_type": "stream",
     "text": [
      "[1 2 3 4 5]\n",
      "[1 1 0 1 2]\n",
      "[1 3 3 3 3]\n",
      "[1 2 3 4 5]\n"
     ]
    }
   ],
   "source": [
    "#modulus\n",
    "arr1=np.array([1,22,3,4,5])\n",
    "n=3\n",
    "arr2=np.array([2,4,5,6,6])\n",
    "print(arr1%arr2)\n",
    "print(arr1%n)\n",
    "print(n%arr2)\n",
    "print(np.mod(arr1,arr2))"
   ]
  },
  {
   "cell_type": "code",
   "execution_count": 51,
   "id": "6269586c-fdab-4315-b939-6a9a65da71aa",
   "metadata": {},
   "outputs": [
    {
     "name": "stdout",
     "output_type": "stream",
     "text": [
      "[ 8.1240384  26.01922366  9.11043358  9.53939201  9.64365076]\n",
      "[2.         2.23606798 2.64575131 2.82842712 1.41421356]\n"
     ]
    }
   ],
   "source": [
    "#square root\n",
    "arr1=np.array([66,677,83,91,93])\n",
    "arr2=np.array([4,5,7,8,2])\n",
    "print(np.sqrt(arr1))\n",
    "print(np.sqrt(arr2))"
   ]
  },
  {
   "cell_type": "code",
   "execution_count": 78,
   "id": "412c216b-2f75-46f2-8aa7-05e9e57d629f",
   "metadata": {},
   "outputs": [],
   "source": []
  },
  {
   "cell_type": "code",
   "execution_count": null,
   "id": "5010b798-05e2-46c1-adde-e9f6546e1f65",
   "metadata": {},
   "outputs": [],
   "source": [
    "#arthmetic operations on 2D array"
   ]
  },
  {
   "cell_type": "code",
   "execution_count": 55,
   "id": "1d7ec1f5-76f5-4f7e-ae65-043c2dc50ebd",
   "metadata": {},
   "outputs": [
    {
     "name": "stdout",
     "output_type": "stream",
     "text": [
      "[[  3  55   7  58  10 989]\n",
      " [ 75   4   6   9  12  74]]\n"
     ]
    },
    {
     "data": {
      "text/plain": [
       "array([[  3,  55,   7,  58,  10, 989],\n",
       "       [ 75,   4,   6,   9,  12,  74]])"
      ]
     },
     "execution_count": 55,
     "metadata": {},
     "output_type": "execute_result"
    }
   ],
   "source": [
    "#addition\n",
    "arr1=np.array([[1,22,3,3,4,212],[2,2,3,5,7,8]])\n",
    "arr2=np.array([[2,33,4,55,6,777],[73,2,3,4,5,66]])\n",
    "print(arr1+arr2)\n",
    "np.add(arr1,arr2)"
   ]
  },
  {
   "cell_type": "code",
   "execution_count": 59,
   "id": "95760d45-595f-457c-9842-8007b0beaa11",
   "metadata": {},
   "outputs": [
    {
     "name": "stdout",
     "output_type": "stream",
     "text": [
      "[[   1   11    1   52    2  565]\n",
      " [  29 -431    0  -39   12    3]]\n"
     ]
    },
    {
     "data": {
      "text/plain": [
       "array([[  -1,  -11,   -1,  -52,   -2, -565],\n",
       "       [ -29,  431,    0,   39,  -12,   -3]])"
      ]
     },
     "execution_count": 59,
     "metadata": {},
     "output_type": "execute_result"
    }
   ],
   "source": [
    "#suntraction\n",
    "arr1=np.array([[2,33,4,55,6,777],[32,3,4,5,56,6]])\n",
    "arr2=np.array([[1,22,3,3,4,212],[3,434,4,44,44,3]])\n",
    "print(arr1-arr2)\n",
    "np.subtract(arr2,arr1)"
   ]
  },
  {
   "cell_type": "code",
   "execution_count": 63,
   "id": "a21767aa-f866-43c2-adfa-916201024701",
   "metadata": {},
   "outputs": [
    {
     "name": "stdout",
     "output_type": "stream",
     "text": [
      "[[  4  99  16 280  36]\n",
      " [ 46  92  25   0  20]]\n",
      "[[  8  12  16 224  24]\n",
      " [ 92  16  20   8  16]]\n",
      "[[  8 132  16  20  24]\n",
      " [  8  92  20   0  20]]\n",
      "[[  4  99  16 280  36]\n",
      " [ 46  92  25   0  20]]\n"
     ]
    }
   ],
   "source": [
    "#multiplication\n",
    "arr1=np.array([[2,3,4,56,6],[23,4,5,2,4]])\n",
    "n=4\n",
    "arr2=np.array([[2,33,4,5,6],[2,23,5,0,5]])\n",
    "print(arr1*arr2)\n",
    "print(arr1*n)\n",
    "print(n*arr2)\n",
    "print(np.multiply(arr1,arr2))"
   ]
  },
  {
   "cell_type": "code",
   "execution_count": 65,
   "id": "85d759ff-fb9d-4c63-8b14-26af2dbc268c",
   "metadata": {},
   "outputs": [
    {
     "name": "stdout",
     "output_type": "stream",
     "text": [
      "[[11.          1.         11.         11.2        11.        ]\n",
      " [ 0.10958904  1.5         0.33333333  0.5         4.4       ]]\n",
      "[[2.2 3.3 4.4 5.6 6.6]\n",
      " [0.8 0.3 0.1 0.2 2.2]]\n",
      "[[5.         0.3030303  2.5        2.         1.66666667]\n",
      " [0.1369863  5.         3.33333333 2.5        2.        ]]\n",
      "[[11.          1.         11.         11.2        11.        ]\n",
      " [ 0.10958904  1.5         0.33333333  0.5         4.4       ]]\n"
     ]
    }
   ],
   "source": [
    "#division\n",
    "arr1=np.array([[22,33,44,56,66],[8,3,1,2,22]])\n",
    "arr2=np.array([[2,33,4,5,6],[73,2,3,4,5]])\n",
    "n=10\n",
    "print(arr1/arr2)\n",
    "print(arr1/n)\n",
    "print(n/arr2)\n",
    "print(np.divide(arr1,arr2))"
   ]
  },
  {
   "cell_type": "code",
   "execution_count": 69,
   "id": "fd304313-b48d-4a6e-9058-6b3e62d52fb3",
   "metadata": {},
   "outputs": [
    {
     "name": "stdout",
     "output_type": "stream",
     "text": [
      "[[11  1 11 11 11]\n",
      " [ 7  4 55  2  6]]\n",
      "[[2 3 4 5 6]\n",
      " [2 0 5 0 2]]\n",
      "[[ 5  0  2  2  1]\n",
      " [ 3 11 11  3  2]]\n",
      "[[11  1 11 11 11]\n",
      " [ 7  4 55  2  6]]\n"
     ]
    }
   ],
   "source": [
    "#floor division\n",
    "arr1=np.array([[22,33,44,56,66],[23,4,55,7,30]])\n",
    "arr2=np.array([[2,33,4,5,6],[3,1,1,3,5]])\n",
    "n=11\n",
    "print(arr1//arr2)\n",
    "print(arr1//n)\n",
    "print(n//arr2)\n",
    "print(np.floor_divide(arr1,arr2))"
   ]
  },
  {
   "cell_type": "code",
   "execution_count": 71,
   "id": "94e70192-cdcc-4da6-b448-db86e541e754",
   "metadata": {},
   "outputs": [
    {
     "name": "stdout",
     "output_type": "stream",
     "text": [
      "[[1 2 3 4 5]\n",
      " [0 1 2 3 4]]\n",
      "[[1 4 3 4 5]\n",
      " [0 3 2 3 4]]\n",
      "[[0 2 1 0 0]\n",
      " [0 0 2 0 6]]\n",
      "[[1 2 3 4 5]\n",
      " [0 1 2 3 4]]\n"
     ]
    }
   ],
   "source": [
    "#modulus\n",
    "arr1=np.array([[1,22,3,4,5],[6,3,2,3,4]])\n",
    "arr2=np.array([[2,4,5,6,6],[3,2,4,6,77]])\n",
    "n=6\n",
    "print(arr1%arr2)\n",
    "print(arr1%n)\n",
    "print(n%arr2)\n",
    "print(np.mod(arr1,arr2))"
   ]
  },
  {
   "cell_type": "code",
   "execution_count": 73,
   "id": "fbeb65cc-0fe1-486b-a42f-f1a58a1569bf",
   "metadata": {},
   "outputs": [
    {
     "name": "stdout",
     "output_type": "stream",
     "text": [
      "[[ 8.1240384  26.01922366  9.11043358  9.53939201  9.64365076]\n",
      " [ 1.73205081 14.89966443  5.83095189  8.1240384   1.41421356]]\n",
      "[[2.         2.23606798 2.64575131 2.82842712 1.41421356]\n",
      " [4.69041576 5.91607978 8.1240384  6.63324958 4.79583152]]\n"
     ]
    }
   ],
   "source": [
    "#square root\n",
    "arr1=np.array([[66,677,83,91,93],[3,222,34,66,2]])\n",
    "arr2=np.array([[4,5,7,8,2],[22,35,66,44,23]])\n",
    "print(np.sqrt(arr1))\n",
    "print(np.sqrt(arr2))"
   ]
  },
  {
   "cell_type": "code",
   "execution_count": null,
   "id": "3927b8bd-8427-4d76-a85a-c0c1b54e37ff",
   "metadata": {},
   "outputs": [],
   "source": []
  },
  {
   "cell_type": "code",
   "execution_count": 76,
   "id": "c2105c16-9c2c-4969-a6ea-b571f756b14b",
   "metadata": {},
   "outputs": [],
   "source": [
    "#arthmetic operations on 3D array"
   ]
  },
  {
   "cell_type": "code",
   "execution_count": 84,
   "id": "6ac4a6db-6559-4fa6-a339-5b0cf78e4fec",
   "metadata": {},
   "outputs": [
    {
     "name": "stdout",
     "output_type": "stream",
     "text": [
      "[[[ 34  26  58  10 989]\n",
      "  [ 75   6   9  12  74]]\n",
      "\n",
      " [[ 45 144   6 100  13]\n",
      "  [ 36 110  83  34  46]]\n",
      "\n",
      " [[ 66  59 132 355   9]\n",
      "  [ 27  78  62  30  93]]]\n"
     ]
    },
    {
     "data": {
      "text/plain": [
       "array([[[ 34,  26,  58,  10, 989],\n",
       "        [ 75,   6,   9,  12,  74]],\n",
       "\n",
       "       [[ 45, 144,   6, 100,  13],\n",
       "        [ 36, 110,  83,  34,  46]],\n",
       "\n",
       "       [[ 66,  59, 132, 355,   9],\n",
       "        [ 27,  78,  62,  30,  93]]])"
      ]
     },
     "execution_count": 84,
     "metadata": {},
     "output_type": "execute_result"
    }
   ],
   "source": [
    "#addition\n",
    "arr1=np.array([[[1,22,3,4,212],[2,3,5,7,8]],\n",
    "               [[12,122,3,44,5],[32,44,5,32,2]],\n",
    "               [[23,4,55,22,4],[23,33,55,22,90]]])\n",
    "arr2=np.array([[[33,4,55,6,777],[73,3,4,5,66]],\n",
    "               [[33,22,3,56,8],[4,66,78,2,44]],\n",
    "               [[43,55,77,333,5],[4,45,7,8,3]]])\n",
    "print(arr1+arr2)\n",
    "np.add(arr1,arr2)"
   ]
  },
  {
   "cell_type": "code",
   "execution_count": 86,
   "id": "6b88098e-53de-42c8-a314-45ab605904b5",
   "metadata": {},
   "outputs": [
    {
     "name": "stdout",
     "output_type": "stream",
     "text": [
      "[[[ -32   18  -52   -2 -565]\n",
      "  [ -71    0    1    2  -58]]\n",
      "\n",
      " [[ -21  100    0  -12   -3]\n",
      "  [  28  -22  -73   30  -42]]\n",
      "\n",
      " [[ -20  -51  -22 -311   -1]\n",
      "  [  19  -12   48   14   87]]]\n"
     ]
    },
    {
     "data": {
      "text/plain": [
       "array([[[ -32,   18,  -52,   -2, -565],\n",
       "        [ -71,    0,    1,    2,  -58]],\n",
       "\n",
       "       [[ -21,  100,    0,  -12,   -3],\n",
       "        [  28,  -22,  -73,   30,  -42]],\n",
       "\n",
       "       [[ -20,  -51,  -22, -311,   -1],\n",
       "        [  19,  -12,   48,   14,   87]]])"
      ]
     },
     "execution_count": 86,
     "metadata": {},
     "output_type": "execute_result"
    }
   ],
   "source": [
    "#subtraction\n",
    "arr1=np.array([[[1,22,3,4,212],[2,3,5,7,8]],\n",
    "               [[12,122,3,44,5],[32,44,5,32,2]],\n",
    "               [[23,4,55,22,4],[23,33,55,22,90]]])\n",
    "arr2=np.array([[[33,4,55,6,777],[73,3,4,5,66]],\n",
    "               [[33,22,3,56,8],[4,66,78,2,44]],\n",
    "               [[43,55,77,333,5],[4,45,7,8,3]]])\n",
    "print(arr1-arr2)\n",
    "np.subtract(arr1,arr2)"
   ]
  },
  {
   "cell_type": "code",
   "execution_count": 92,
   "id": "005ca615-aeef-4f9c-a127-7d8a6f045b1d",
   "metadata": {},
   "outputs": [
    {
     "name": "stdout",
     "output_type": "stream",
     "text": [
      "[[[   4   99   16  280   36]\n",
      "  [  46   92   25    0   20]]\n",
      "\n",
      " [[  46  529 2420   66    4]\n",
      "  [ 408 1462   88   96    2]]]\n",
      "[[[  8  12  16 224  24]\n",
      "  [ 92  16  20   8  16]]\n",
      "\n",
      " [[ 92  92 220 132  16]\n",
      "  [136 172 176 128   8]]]\n",
      "[[[  8 132  16  20  24]\n",
      "  [  8  92  20   0  20]]\n",
      "\n",
      " [[  8  92 176   8   4]\n",
      "  [ 48 136   8  12   4]]]\n",
      "[[[   4   99   16  280   36]\n",
      "  [  46   92   25    0   20]]\n",
      "\n",
      " [[  46  529 2420   66    4]\n",
      "  [ 408 1462   88   96    2]]]\n"
     ]
    }
   ],
   "source": [
    "#multiplication\n",
    "arr1=np.array([[[2,3,4,56,6],[23,4,5,2,4]],\n",
    "               [[23,23,55,33,4],[34,43,44,32,2]]])\n",
    "n=4\n",
    "arr2=np.array([[[2,33,4,5,6],[2,23,5,0,5]],\n",
    "               [[2,23,44,2,1],[12,34,2,3,1]]])\n",
    "print(arr1*arr2)\n",
    "print(arr1*n)\n",
    "print(n*arr2)\n",
    "print(np.multiply(arr1,arr2))"
   ]
  },
  {
   "cell_type": "code",
   "execution_count": 94,
   "id": "424c5fd4-eb69-4c10-ac55-1ae4d34503d9",
   "metadata": {},
   "outputs": [
    {
     "name": "stdout",
     "output_type": "stream",
     "text": [
      "[[[11.          1.         11.         11.2        11.        ]\n",
      "  [ 0.10958904  1.5         0.33333333  0.5         4.4       ]]\n",
      "\n",
      " [[ 1.          0.51111111  0.0483871   1.33333333  1.25      ]\n",
      "  [ 2.25        1.33333333  0.71428571  4.5         0.33333333]]]\n",
      "[[[2.2 3.3 4.4 5.6 6.6]\n",
      "  [0.8 0.3 0.1 0.2 2.2]]\n",
      "\n",
      " [[0.3 2.3 0.3 0.4 0.5]\n",
      "  [0.9 0.8 0.5 0.9 0.3]]]\n",
      "[[[5.         0.3030303  2.5        2.         1.66666667]\n",
      "  [0.1369863  5.         3.33333333 2.5        2.        ]]\n",
      "\n",
      " [[3.33333333 0.22222222 0.16129032 3.33333333 2.5       ]\n",
      "  [2.5        1.66666667 1.42857143 5.         1.11111111]]]\n",
      "[[[11.          1.         11.         11.2        11.        ]\n",
      "  [ 0.10958904  1.5         0.33333333  0.5         4.4       ]]\n",
      "\n",
      " [[ 1.          0.51111111  0.0483871   1.33333333  1.25      ]\n",
      "  [ 2.25        1.33333333  0.71428571  4.5         0.33333333]]]\n"
     ]
    }
   ],
   "source": [
    "#division\n",
    "arr1=np.array([[[22,33,44,56,66],[8,3,1,2,22]],\n",
    "               [[3,23,3,4,5],[9,8,5,9,3]]])\n",
    "arr2=np.array([[[2,33,4,5,6],[73,2,3,4,5]],\n",
    "               [[3,45,62,3,4],[4,6,7,2,9]]])\n",
    "n=10\n",
    "print(arr1/arr2)\n",
    "print(arr1/n)\n",
    "print(n/arr2)\n",
    "print(np.divide(arr1,arr2))"
   ]
  },
  {
   "cell_type": "code",
   "execution_count": 96,
   "id": "fae4e7da-90b9-4cdc-a39d-3883b3c4b955",
   "metadata": {},
   "outputs": [
    {
     "name": "stdout",
     "output_type": "stream",
     "text": [
      "[[[11  1 11 11 11]\n",
      "  [ 7  4 55  2  6]]\n",
      "\n",
      " [[ 1 10  1  0  0]\n",
      "  [ 0 32  0  0  0]]]\n",
      "[[[2 3 4 5 6]\n",
      "  [2 0 5 0 2]]\n",
      "\n",
      " [[0 2 0 0 0]\n",
      "  [0 5 0 0 0]]]\n",
      "[[[ 5  0  2  2  1]\n",
      "  [ 3 11 11  3  2]]\n",
      "\n",
      " [[ 2  3 11  1  1]\n",
      "  [ 1  5  3  1  1]]]\n",
      "[[[11  1 11 11 11]\n",
      "  [ 7  4 55  2  6]]\n",
      "\n",
      " [[ 1 10  1  0  0]\n",
      "  [ 0 32  0  0  0]]]\n"
     ]
    }
   ],
   "source": [
    "#floor division\n",
    "arr1=np.array([[[22,33,44,56,66],[23,4,55,7,30]],\n",
    "               [[4,32,1,3,5],[4,64,2,4,1]]])\n",
    "arr2=np.array([[[2,33,4,5,6],[3,1,1,3,5]],\n",
    "               [[4,3,1,6,8],[7,2,3,7,9]]])\n",
    "n=11\n",
    "print(arr1//arr2)\n",
    "print(arr1//n)\n",
    "print(n//arr2)\n",
    "print(np.floor_divide(arr1,arr2))"
   ]
  },
  {
   "cell_type": "code",
   "execution_count": 98,
   "id": "1bbc5ea3-b72f-480e-9d54-b421fbcbd3b1",
   "metadata": {},
   "outputs": [
    {
     "name": "stdout",
     "output_type": "stream",
     "text": [
      "[[[1 2 3 4 5]\n",
      "  [0 1 2 3 4]]\n",
      "\n",
      " [[0 0 2 3 0]\n",
      "  [4 0 0 1 7]]]\n",
      "[[[1 4 3 4 5]\n",
      "  [0 3 2 3 4]]\n",
      "\n",
      " [[4 0 2 3 2]\n",
      "  [4 3 2 1 1]]]\n",
      "[[[0 2 1 0 0]\n",
      "  [0 0 2 0 6]]\n",
      "\n",
      " [[2 0 1 0 0]\n",
      "  [0 6 0 0 6]]]\n",
      "[[[1 2 3 4 5]\n",
      "  [0 1 2 3 4]]\n",
      "\n",
      " [[0 0 2 3 0]\n",
      "  [4 0 0 1 7]]]\n"
     ]
    }
   ],
   "source": [
    "#modulus\n",
    "arr1=np.array([[[1,22,3,4,5],[6,3,2,3,4]],\n",
    "               [[4,6,2,9,2],[4,9,2,1,7]]])\n",
    "arr2=np.array([[[2,4,5,6,6],[3,2,4,6,77]],\n",
    "               [[4,1,5,6,1],[6,9,2,6,8]]])\n",
    "n=6\n",
    "print(arr1%arr2)\n",
    "print(arr1%n)\n",
    "print(n%arr2)\n",
    "print(np.mod(arr1,arr2))"
   ]
  },
  {
   "cell_type": "code",
   "execution_count": 102,
   "id": "5c617fb7-252a-4476-bff2-f2c0c91dfb0d",
   "metadata": {},
   "outputs": [
    {
     "name": "stdout",
     "output_type": "stream",
     "text": [
      "[[[ 8.1240384  26.01922366  9.11043358  9.53939201  9.64365076]\n",
      "  [ 1.73205081 14.89966443  5.83095189  8.1240384   1.41421356]]\n",
      "\n",
      " [[ 2.          1.41421356  4.69041576  2.          7.41619849]\n",
      "  [ 6.63324958  9.38083152  1.41421356  5.74456265  4.69041576]]]\n",
      "[[[ 2.          2.23606798  2.64575131  2.82842712  1.41421356]\n",
      "  [ 4.69041576  5.91607978  8.1240384   6.63324958  4.79583152]]\n",
      "\n",
      " [[ 6.63324958  1.73205081 10.58300524  6.70820393 57.74080013]\n",
      "  [ 5.83095189 23.72762104  9.89949494  8.60232527  8.83176087]]]\n"
     ]
    }
   ],
   "source": [
    "#square root\n",
    "arr1=np.array([[[66,677,83,91,93],[3,222,34,66,2]],\n",
    "               [[4,2,22,4,55],[44,88,2,33,22]]])\n",
    "arr2=np.array([[[4,5,7,8,2],[22,35,66,44,23]],\n",
    "               [[44,3,112,45,3334],[34,563,98,74,78]]])\n",
    "print(np.sqrt(arr1))\n",
    "print(np.sqrt(arr2))"
   ]
  },
  {
   "cell_type": "code",
   "execution_count": null,
   "id": "d1e1f41e-6062-4e83-8551-c1f7649645b9",
   "metadata": {},
   "outputs": [],
   "source": []
  }
 ],
 "metadata": {
  "kernelspec": {
   "display_name": "Python 3 (ipykernel)",
   "language": "python",
   "name": "python3"
  },
  "language_info": {
   "codemirror_mode": {
    "name": "ipython",
    "version": 3
   },
   "file_extension": ".py",
   "mimetype": "text/x-python",
   "name": "python",
   "nbconvert_exporter": "python",
   "pygments_lexer": "ipython3",
   "version": "3.12.4"
  }
 },
 "nbformat": 4,
 "nbformat_minor": 5
}
