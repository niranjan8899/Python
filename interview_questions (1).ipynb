{
 "cells": [
  {
   "cell_type": "code",
   "execution_count": 11,
   "id": "27ca46e5-89eb-4780-815e-bdd5d27d4ba1",
   "metadata": {},
   "outputs": [
    {
     "name": "stdout",
     "output_type": "stream",
     "text": [
      "PALINDROME\n"
     ]
    }
   ],
   "source": [
    "#1.palindrome\n",
    "def palindrome(n):\n",
    "    temp=n\n",
    "    reverse=0\n",
    "    while temp>0:\n",
    "        rem=temp%10\n",
    "        reverse=reverse*10+rem\n",
    "        temp//=10\n",
    "    if reverse==n:\n",
    "        print(\"PALINDROME\")\n",
    "    else:\n",
    "        print(\"NOT PALINDROME\")\n",
    "\n",
    "palindrome(12321)\n",
    "        "
   ]
  },
  {
   "cell_type": "code",
   "execution_count": 17,
   "id": "f7795517-7273-44aa-815b-a55c84f85bb6",
   "metadata": {},
   "outputs": [
    {
     "name": "stdout",
     "output_type": "stream",
     "text": [
      "6\n"
     ]
    }
   ],
   "source": [
    "#2.factorial\n",
    "def factorial(n):\n",
    "    if n==0 or n==1:\n",
    "        print(1)\n",
    "    else:   \n",
    "        total=1\n",
    "        for i in range(2,n+1):\n",
    "            total*=i\n",
    "        print(total)\n",
    "factorial(3)"
   ]
  },
  {
   "cell_type": "code",
   "execution_count": 19,
   "id": "bdb32c37-ff5b-4eca-9ff6-bb6b6c96b6f2",
   "metadata": {},
   "outputs": [
    {
     "name": "stdout",
     "output_type": "stream",
     "text": [
      "334\n"
     ]
    }
   ],
   "source": [
    "#3.largest element in a list\n",
    "def largest_ele(a):\n",
    "    l=len(a)\n",
    "    maxx=a[0]\n",
    "    for i in range(1,l):\n",
    "        if maxx<a[i]:\n",
    "            maxx=a[i]\n",
    "    print(maxx)\n",
    "\n",
    "b=[1,2,334,56,0]\n",
    "largest_ele(b)"
   ]
  },
  {
   "cell_type": "code",
   "execution_count": 25,
   "id": "5d464a3b-1738-4e08-ac35-453e1f6a6176",
   "metadata": {},
   "outputs": [
    {
     "name": "stdout",
     "output_type": "stream",
     "text": [
      "drowssap\n"
     ]
    }
   ],
   "source": [
    "#4.reverse  of a string\n",
    "def reverse(n):\n",
    "    rev=\"\"\n",
    "    for i in n:\n",
    "        rev=i+rev\n",
    "    print(rev)\n",
    "reverse(\"password\")"
   ]
  },
  {
   "cell_type": "code",
   "execution_count": 31,
   "id": "4927b542-344e-4f78-b7d5-e7ea8e5fe0f6",
   "metadata": {},
   "outputs": [
    {
     "name": "stdout",
     "output_type": "stream",
     "text": [
      "{1: 2, 21: 1, 22: 2, 11: 2, 221: 1}\n"
     ]
    }
   ],
   "source": [
    "#5.frequency of each element in a list\n",
    "def freq_ele(list):\n",
    "    frequency={}\n",
    "    for i in list:\n",
    "        if i in frequency:\n",
    "            frequency[i]+=1\n",
    "        else:\n",
    "            frequency[i]=1\n",
    "    print(frequency)\n",
    "freq_ele([1,21,1,22,11,221,11,22])"
   ]
  },
  {
   "cell_type": "code",
   "execution_count": 39,
   "id": "e3d62d45-2dca-4529-a661-ab7da17eeab1",
   "metadata": {},
   "outputs": [
    {
     "name": "stdout",
     "output_type": "stream",
     "text": [
      "Prime\n"
     ]
    }
   ],
   "source": [
    "#6.prime or not\n",
    "def is_prime(n):\n",
    "    for i in range(2,n//2+1):\n",
    "        if n%i==0:\n",
    "            return False\n",
    "    return True\n",
    "    \n",
    "if is_prime(11):\n",
    "    print(\"Prime\")\n",
    "else:\n",
    "    print(\"Not prime\")"
   ]
  },
  {
   "cell_type": "code",
   "execution_count": 57,
   "id": "b51357f0-f6e4-48e4-ad0e-3990f4178aff",
   "metadata": {},
   "outputs": [
    {
     "name": "stdout",
     "output_type": "stream",
     "text": [
      "3\n",
      "5\n",
      "6\n"
     ]
    }
   ],
   "source": [
    "#7.common elements between two lists\n",
    "def common_ele(list1,list2):\n",
    "    list3=[]\n",
    "    for i in range(len(list1)):\n",
    "        if list1[i] in list2:\n",
    "            print(list1[i])\n",
    "list1=[1,2,3,5,6]\n",
    "list2=[3,4,5,6,7]\n",
    "common_ele(list1,list2)"
   ]
  },
  {
   "cell_type": "code",
   "execution_count": 77,
   "id": "f94c5f16-246c-4313-b101-e3d6e7751691",
   "metadata": {},
   "outputs": [
    {
     "name": "stdout",
     "output_type": "stream",
     "text": [
      "5\n"
     ]
    }
   ],
   "source": [
    "#8.second largest number in a list\n",
    "def second_largest(list):\n",
    "    maxx=list[0]\n",
    "    for i in range(1,len(list)):\n",
    "        if list[i]>maxx:\n",
    "            maxx=list[i]\n",
    "    sec_max=list[0]\n",
    "    for i in range(1,len(list)):\n",
    "        if list[i]!=maxx and list[i]>sec_max:\n",
    "            sec_max=list[i]\n",
    "    print(sec_max)\n",
    "    \n",
    "\n",
    "second_largest([1,2,3,4,5,56])"
   ]
  },
  {
   "cell_type": "code",
   "execution_count": 93,
   "id": "770ebd9e-49c9-4218-bb71-da5442060cac",
   "metadata": {},
   "outputs": [
    {
     "name": "stdout",
     "output_type": "stream",
     "text": [
      "1 2 3 5\n"
     ]
    }
   ],
   "source": [
    "#9.remove duplicates from a list\n",
    "def remove_dup(l):\n",
    "    s=set(l)\n",
    "    print(*s)\n",
    "remove_dup([1,1,1,2,3,5])"
   ]
  },
  {
   "cell_type": "code",
   "execution_count": 109,
   "id": "b7b726ef-ced1-4c73-9deb-b1929f279828",
   "metadata": {},
   "outputs": [
    {
     "name": "stdout",
     "output_type": "stream",
     "text": [
      "a\n",
      "e\n",
      "e\n",
      "3\n"
     ]
    }
   ],
   "source": [
    "#10.Counting Vowels in Word \n",
    "def vowels(word):\n",
    "    vows=\"aeiou\"\n",
    "    count=0\n",
    "    \n",
    "    for item in word:\n",
    "        if item in vows:\n",
    "            print(item)\n",
    "            count+=1\n",
    "    print(count)\n",
    "\n",
    "vowels(\"ammerpet\")"
   ]
  },
  {
   "cell_type": "code",
   "execution_count": 111,
   "id": "5012e31b-a483-4c6e-9e36-2464e9bde88d",
   "metadata": {},
   "outputs": [
    {
     "name": "stdout",
     "output_type": "stream",
     "text": [
      "{'e': 2, 'l': 1, 'p': 1, 'h': 1, 'a': 1, 'n': 1, 't': 1}\n"
     ]
    }
   ],
   "source": [
    "#11.Number of Occurrences of a Character in a String\n",
    "def occ_char(word):\n",
    "    items={}\n",
    "    for i in word:\n",
    "        if i in items:\n",
    "            items[i]+=1\n",
    "        else:\n",
    "            items[i]=1\n",
    "    print(items)\n",
    "\n",
    "occ_char(\"elephant\")"
   ]
  },
  {
   "cell_type": "code",
   "execution_count": 113,
   "id": "219d2ce0-4e36-4b8d-99fd-68ad93691c38",
   "metadata": {},
   "outputs": [
    {
     "name": "stdout",
     "output_type": "stream",
     "text": [
      "6666\n"
     ]
    }
   ],
   "source": [
    "#12. Maximum Number in a List\n",
    "def max_ele(list):\n",
    "    maxx=list[0]\n",
    "    for i in range(1,len(list)):\n",
    "        if maxx<list[i]:\n",
    "            maxx=list[i]\n",
    "    print(maxx)\n",
    "\n",
    "max_ele([1,2,3,4,5,6,6666])"
   ]
  },
  {
   "cell_type": "code",
   "execution_count": 115,
   "id": "e1e908c5-cb7e-45c9-8146-05f2bcf2f1ad",
   "metadata": {},
   "outputs": [
    {
     "name": "stdout",
     "output_type": "stream",
     "text": [
      "1\n"
     ]
    }
   ],
   "source": [
    "#13.Minimum Number in a List\n",
    "def min_ele(list):\n",
    "    minn=list[0]\n",
    "    for i in range(1,len(list)):\n",
    "        if minn>list[i]:\n",
    "            minn=list[i]\n",
    "    print(minn)\n",
    "\n",
    "min_ele([1,2,3,4,5,6,6666])"
   ]
  },
  {
   "cell_type": "code",
   "execution_count": 119,
   "id": "9a74a526-bf6e-4645-b67f-a36af2bbebf0",
   "metadata": {},
   "outputs": [
    {
     "name": "stdout",
     "output_type": "stream",
     "text": [
      "1\n"
     ]
    }
   ],
   "source": [
    "#14.smallest number among three\n",
    "def min_three(a,b,c):\n",
    "    if a<b and a<c:\n",
    "        print(a)\n",
    "    elif b<a and b<c:\n",
    "        print(b)\n",
    "    else:\n",
    "        print(c)\n",
    "min_three(1,22,33)"
   ]
  },
  {
   "cell_type": "code",
   "execution_count": 121,
   "id": "40077e7a-3abf-4b2d-a0bb-9d6cabf95fe4",
   "metadata": {},
   "outputs": [
    {
     "name": "stdout",
     "output_type": "stream",
     "text": [
      "4\n"
     ]
    }
   ],
   "source": [
    "#15. square of a given number\n",
    "def square(n):\n",
    "    res=n**2\n",
    "    print(res)\n",
    "\n",
    "square(2)\n",
    "    "
   ]
  },
  {
   "cell_type": "code",
   "execution_count": 131,
   "id": "7e6058bd-43fb-4d15-8034-e8693b23e519",
   "metadata": {},
   "outputs": [
    {
     "name": "stdout",
     "output_type": "stream",
     "text": [
      "42\n"
     ]
    }
   ],
   "source": [
    "#16.LCM of given two numbers\n",
    "def lcm(num1,num2):\n",
    "    maxx=max(num1,num2)\n",
    "    for i in range(maxx,num1*num2+1):\n",
    "        if i%num1==i%num2==0:\n",
    "            print(i)\n",
    "            break\n",
    "\n",
    "lcm(21,6)"
   ]
  },
  {
   "cell_type": "code",
   "execution_count": 163,
   "id": "48747863-fa45-4833-8743-ed295afcd60d",
   "metadata": {},
   "outputs": [
    {
     "name": "stdout",
     "output_type": "stream",
     "text": [
      "apple\n"
     ]
    }
   ],
   "source": [
    "#17.copy one string to another string\n",
    "def copy(a):\n",
    "    \n",
    "    b=\"\".join(a)\n",
    "    print(b)\n",
    "\n",
    "copy(\"apple\")"
   ]
  },
  {
   "cell_type": "code",
   "execution_count": 177,
   "id": "bda28abc-3f99-426c-8acf-f94a4e008035",
   "metadata": {},
   "outputs": [
    {
     "name": "stdout",
     "output_type": "stream",
     "text": [
      "['a', 'e', 'l', 'p', 'p']\n"
     ]
    }
   ],
   "source": [
    "#18. sort characters of string in ascending order\n",
    "def char_sort(a):\n",
    "    b=str(a)\n",
    "    print(sorted(b))\n",
    "char_sort(\"apple\")"
   ]
  },
  {
   "cell_type": "code",
   "execution_count": 175,
   "id": "6a4abf62-9751-480d-922d-b76169d42df6",
   "metadata": {},
   "outputs": [
    {
     "name": "stdout",
     "output_type": "stream",
     "text": [
      "['p', 'p', 'l', 'e', 'a']\n"
     ]
    }
   ],
   "source": [
    "#19.sort character of string in descending order\n",
    "def char_sort(a):\n",
    "    b=str(a)\n",
    "    print(sorted(b)[::-1])\n",
    "char_sort(\"apple\")"
   ]
  },
  {
   "cell_type": "code",
   "execution_count": 185,
   "id": "7f80fcac-6a2e-42c7-ad15-43fa8944086d",
   "metadata": {},
   "outputs": [
    {
     "name": "stdout",
     "output_type": "stream",
     "text": [
      "20 10\n"
     ]
    }
   ],
   "source": [
    "#20.swap two numbers without using third variable\n",
    "def swap_without_temp(a,b):\n",
    "    a,b=b,a\n",
    "    print(a,b)\n",
    "   \n",
    "swap_without_temp(10,20)"
   ]
  }
 ],
 "metadata": {
  "kernelspec": {
   "display_name": "Python 3 (ipykernel)",
   "language": "python",
   "name": "python3"
  },
  "language_info": {
   "codemirror_mode": {
    "name": "ipython",
    "version": 3
   },
   "file_extension": ".py",
   "mimetype": "text/x-python",
   "name": "python",
   "nbconvert_exporter": "python",
   "pygments_lexer": "ipython3",
   "version": "3.12.4"
  }
 },
 "nbformat": 4,
 "nbformat_minor": 5
}
