{
 "cells": [
  {
   "cell_type": "code",
   "execution_count": 3,
   "id": "1769ed06-fda2-4051-988c-0e98b766805b",
   "metadata": {},
   "outputs": [
    {
     "name": "stdout",
     "output_type": "stream",
     "text": [
      "621\n",
      "489\n",
      "36630\n",
      "8.409090909090908\n",
      "27\n",
      "8\n"
     ]
    }
   ],
   "source": [
    "#arthemetic operators\n",
    "#addition\n",
    "a=555\n",
    "b=66\n",
    "c=a+b\n",
    "print(c)\n",
    "\n",
    "#subtraction\n",
    "d=a-b\n",
    "print(d)\n",
    "\n",
    "#multiplication\n",
    "e=a*b\n",
    "print(e)\n",
    "\n",
    "#division\n",
    "f=a/b\n",
    "print(f)\n",
    "\n",
    "#modulus\n",
    "g=a%b\n",
    "print(g)\n",
    "\n",
    "#floor division\n",
    "h=a//b\n",
    "print(h)"
   ]
  },
  {
   "cell_type": "code",
   "execution_count": 5,
   "id": "86f29ded-c17f-471b-b9e3-f7483f41297a",
   "metadata": {},
   "outputs": [
    {
     "name": "stdout",
     "output_type": "stream",
     "text": [
      "172\n",
      "91\n",
      "7371\n",
      "91.0\n",
      "10.0\n",
      "1e+81\n"
     ]
    }
   ],
   "source": [
    "#assignment operators\n",
    "a=91\n",
    "b=81\n",
    "\n",
    "#addition assignment\n",
    "a+=b\n",
    "print(a)\n",
    "\n",
    "#subtraction assignment\n",
    "a-=b\n",
    "print(a)\n",
    "\n",
    "#multiplication assignment\n",
    "a*=b\n",
    "print(a)\n",
    "\n",
    "#division assignment\n",
    "a/=b\n",
    "print(a)\n",
    "\n",
    "#modulus assignment\n",
    "a%=b\n",
    "print(a)\n",
    "\n",
    "#exponent assignment\n",
    "a**=b\n",
    "print(a)"
   ]
  },
  {
   "cell_type": "code",
   "execution_count": 26,
   "id": "a7eab983-e0d0-4f6b-ab84-21edbc2c4e15",
   "metadata": {},
   "outputs": [
    {
     "data": {
      "text/plain": [
       "True"
      ]
     },
     "execution_count": 26,
     "metadata": {},
     "output_type": "execute_result"
    }
   ],
   "source": [
    "#comparision operator\n",
    "#is equal to\n",
    "a=100\n",
    "b=100\n",
    "a==b"
   ]
  },
  {
   "cell_type": "code",
   "execution_count": 30,
   "id": "e9e6dd19-e1aa-40cd-961d-2a8a946786d9",
   "metadata": {},
   "outputs": [
    {
     "data": {
      "text/plain": [
       "True"
      ]
     },
     "execution_count": 30,
     "metadata": {},
     "output_type": "execute_result"
    }
   ],
   "source": [
    "#not equal to\n",
    "a=20\n",
    "b=80\n",
    "a!=b"
   ]
  },
  {
   "cell_type": "code",
   "execution_count": 28,
   "id": "4584f1f2-d63b-469c-951a-5c4c4bbb7b53",
   "metadata": {},
   "outputs": [
    {
     "data": {
      "text/plain": [
       "True"
      ]
     },
     "execution_count": 28,
     "metadata": {},
     "output_type": "execute_result"
    }
   ],
   "source": [
    "#greater than\n",
    "a=19999\n",
    "b=322\n",
    "a>b"
   ]
  },
  {
   "cell_type": "code",
   "execution_count": 40,
   "id": "651be3ad-489c-414c-ad0c-cc1615adfb3b",
   "metadata": {},
   "outputs": [
    {
     "data": {
      "text/plain": [
       "True"
      ]
     },
     "execution_count": 40,
     "metadata": {},
     "output_type": "execute_result"
    }
   ],
   "source": [
    "#lessthan\n",
    "a=22\n",
    "c=3333\n",
    "a<c"
   ]
  },
  {
   "cell_type": "code",
   "execution_count": 34,
   "id": "9d294a8b-57d6-4e1c-b9d5-3ab95fe8039c",
   "metadata": {},
   "outputs": [
    {
     "data": {
      "text/plain": [
       "True"
      ]
     },
     "execution_count": 34,
     "metadata": {},
     "output_type": "execute_result"
    }
   ],
   "source": [
    "#lessthan or equalto\n",
    "a=2\n",
    "b=2\n",
    "a<=b"
   ]
  },
  {
   "cell_type": "code",
   "execution_count": 36,
   "id": "09ee1cbe-adee-4525-80cb-19a91f1432cb",
   "metadata": {},
   "outputs": [
    {
     "data": {
      "text/plain": [
       "True"
      ]
     },
     "execution_count": 36,
     "metadata": {},
     "output_type": "execute_result"
    }
   ],
   "source": [
    "#greaterthan or equalto\n",
    "a=122\n",
    "b=22\n",
    "a>=b"
   ]
  },
  {
   "cell_type": "code",
   "execution_count": 54,
   "id": "ace78c00-4061-4073-b6d7-451c51e7bae0",
   "metadata": {},
   "outputs": [
    {
     "name": "stdout",
     "output_type": "stream",
     "text": [
      "False\n",
      "True\n",
      "True\n",
      "False\n"
     ]
    }
   ],
   "source": [
    "#logical operators\n",
    "A=122\n",
    "B=224\n",
    "c=A is B\n",
    "d=A is not B\n",
    "\n",
    "#and\n",
    "e=c and d\n",
    "print(e)\n",
    "\n",
    "#or \n",
    "f= c or d\n",
    "print(f)\n",
    "\n",
    "#not\n",
    "print(not(c))\n",
    "print(not(d))"
   ]
  },
  {
   "cell_type": "code",
   "execution_count": 62,
   "id": "d115a66e-c6e1-442d-88dc-d26f9e7eadb7",
   "metadata": {},
   "outputs": [
    {
     "name": "stdout",
     "output_type": "stream",
     "text": [
      "True\n",
      "True\n"
     ]
    }
   ],
   "source": [
    "#identity operator\n",
    "#is\n",
    "bujji=\"robot\"\n",
    "elon=\"robot\"\n",
    "a=bujji is elon\n",
    "print(a)\n",
    "\n",
    "#is not\n",
    "bujji=\"robot\"\n",
    "bhirava=\"human\" \n",
    "b=bujji is not bhirava\n",
    "print(b)"
   ]
  },
  {
   "cell_type": "code",
   "execution_count": 68,
   "id": "6795ed9a-4d40-49fe-882b-da3087d3d3d8",
   "metadata": {},
   "outputs": [
    {
     "name": "stdout",
     "output_type": "stream",
     "text": [
      "True\n",
      "True\n"
     ]
    }
   ],
   "source": [
    "#membership operator\n",
    "kalki=['prabhas','amitab','vijay','rana']\n",
    "bahubali=['prabhas','rana','anushka','thamanna','kattappa']\n",
    "\n",
    "#in\n",
    "print('prabhas' in kalki)\n",
    "\n",
    "#not in \n",
    "print('kattappa' not in kalki)\n"
   ]
  },
  {
   "cell_type": "code",
   "execution_count": null,
   "id": "c3e8a98e-6694-429d-a42c-582076b2c267",
   "metadata": {},
   "outputs": [],
   "source": []
  }
 ],
 "metadata": {
  "kernelspec": {
   "display_name": "Python 3 (ipykernel)",
   "language": "python",
   "name": "python3"
  },
  "language_info": {
   "codemirror_mode": {
    "name": "ipython",
    "version": 3
   },
   "file_extension": ".py",
   "mimetype": "text/x-python",
   "name": "python",
   "nbconvert_exporter": "python",
   "pygments_lexer": "ipython3",
   "version": "3.12.4"
  }
 },
 "nbformat": 4,
 "nbformat_minor": 5
}
