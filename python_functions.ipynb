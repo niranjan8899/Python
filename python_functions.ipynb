{
 "cells": [
  {
   "cell_type": "code",
   "execution_count": 37,
   "id": "ae79e328-c894-4feb-9b5d-12cbfadd89ca",
   "metadata": {},
   "outputs": [
    {
     "name": "stdout",
     "output_type": "stream",
     "text": [
      "questions and answers\n",
      "432\n"
     ]
    }
   ],
   "source": [
    "#python functions\n",
    "#a function is a block of code that performs a specifi task\n",
    "\n",
    "#types of functions\n",
    "#1.standard library functions:also called as inbuilt funcyions like sum(),input(),max(),min(),pow()\n",
    "#2.user defined functions\n",
    "\n",
    "#syntax:\n",
    "#def function_name(arguments):\n",
    "#    return\n",
    "\n",
    "#calling a function \n",
    "def Exam(a):\n",
    "    print(f\"questions and {a}\")\n",
    "Exam(\"answers\")\n",
    "\n",
    "#python function Arguments and return statement\n",
    "def multiplication_numbers(a,b,c):\n",
    "    mul=a*b*c\n",
    "    return mul\n",
    "print(multiplication_numbers(12,12,3))"
   ]
  },
  {
   "cell_type": "code",
   "execution_count": 11,
   "id": "ecfe197e-b32f-48fd-8575-7d6a6211d521",
   "metadata": {},
   "outputs": [
    {
     "name": "stdout",
     "output_type": "stream",
     "text": [
      "Odd number\n",
      "Odd number\n",
      "Even number\n"
     ]
    }
   ],
   "source": [
    "#1.even or odd with functions\n",
    "def even_or_odd(n):\n",
    "    if n%2==0:\n",
    "        print(\"Even number\")\n",
    "    else:\n",
    "        print(\"Odd number\")\n",
    "\n",
    "even_or_odd(23)\n",
    "even_or_odd(3)\n",
    "even_or_odd(222222)"
   ]
  },
  {
   "cell_type": "code",
   "execution_count": 9,
   "id": "4a3383c9-0548-45e9-b112-f62b31ca8cb0",
   "metadata": {},
   "outputs": [
    {
     "name": "stdout",
     "output_type": "stream",
     "text": [
      "22\n",
      "1212\n"
     ]
    }
   ],
   "source": [
    "#Maximum among three numbers with functions\n",
    "def maxi(a,b,c):\n",
    "    if a>b and a>c:\n",
    "        print(a)\n",
    "    elif b>a and b>c:\n",
    "        print(b)\n",
    "    else:\n",
    "        print(c)\n",
    "\n",
    "maxi(12,22,1)\n",
    "maxi(1212,31,22.112212)"
   ]
  },
  {
   "cell_type": "code",
   "execution_count": 7,
   "id": "30cf3f15-6c8e-4521-83e2-11ff6f746948",
   "metadata": {},
   "outputs": [
    {
     "name": "stdout",
     "output_type": "stream",
     "text": [
      "9\n",
      "2\n"
     ]
    }
   ],
   "source": [
    "#Minimum among three numbers with functions\n",
    "def mini(a,b,c):\n",
    "    if a<b and a<c:\n",
    "        print(a)\n",
    "    elif b<a and b<c:\n",
    "        print(b)\n",
    "    else:\n",
    "        print(c)\n",
    "\n",
    "mini(9.22,9,21)\n",
    "mini(244,2,321)"
   ]
  },
  {
   "cell_type": "code",
   "execution_count": 15,
   "id": "2fa1cc00-86fd-47e4-bb9d-3099126f578c",
   "metadata": {},
   "outputs": [
    {
     "name": "stdout",
     "output_type": "stream",
     "text": [
      "grade A\n",
      "grade E\n",
      "grade B\n"
     ]
    }
   ],
   "source": [
    "#grading system using functions\n",
    "def grade_of(m):\n",
    "    if m>=91 and m<=100:\n",
    "        print(\"grade A\")\n",
    "    elif m>=81 and m<=90:\n",
    "        print(\"grade B\")\n",
    "    elif m>=71 and m<=80:\n",
    "        print(\"grade C\")\n",
    "    elif m>=61 and m<=70:\n",
    "        print(\"grade D\")\n",
    "    elif m>=51 and m<=60:\n",
    "        print(\"grade E\")\n",
    "    else:\n",
    "        print(\"grade F\")\n",
    "\n",
    "grade_of(100)\n",
    "grade_of(55)\n",
    "grade_of(88)"
   ]
  }
 ],
 "metadata": {
  "kernelspec": {
   "display_name": "Python 3 (ipykernel)",
   "language": "python",
   "name": "python3"
  },
  "language_info": {
   "codemirror_mode": {
    "name": "ipython",
    "version": 3
   },
   "file_extension": ".py",
   "mimetype": "text/x-python",
   "name": "python",
   "nbconvert_exporter": "python",
   "pygments_lexer": "ipython3",
   "version": "3.12.4"
  }
 },
 "nbformat": 4,
 "nbformat_minor": 5
}
