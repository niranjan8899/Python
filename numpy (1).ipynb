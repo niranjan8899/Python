{
 "cells": [
  {
   "cell_type": "code",
   "execution_count": 1,
   "id": "4cb640d0-3dcf-4040-ac11-69628bfe6d56",
   "metadata": {},
   "outputs": [
    {
     "name": "stdout",
     "output_type": "stream",
     "text": [
      "Requirement already satisfied: numpy in /opt/anaconda3/lib/python3.12/site-packages (1.26.4)\n"
     ]
    }
   ],
   "source": [
    "#Numpy\n",
    "!pip install numpy"
   ]
  },
  {
   "cell_type": "code",
   "execution_count": 1,
   "id": "d2c5c1f3-a003-4f31-a70f-8f5abb542c96",
   "metadata": {},
   "outputs": [],
   "source": [
    "#importing numpy\n",
    "import numpy as np"
   ]
  },
  {
   "cell_type": "code",
   "execution_count": 27,
   "id": "41b98e93-a9b7-4294-a07a-f26c562d9b1e",
   "metadata": {},
   "outputs": [
    {
     "name": "stdout",
     "output_type": "stream",
     "text": [
      "[1 2 3 4]\n",
      "[[ 5.  6.  7.  8.]\n",
      " [ 9.  8. 10. 11.]]\n",
      "[[[ 1.5  8.9 10.   0. ]\n",
      "  [ 1.   2.  33.   4. ]]\n",
      "\n",
      " [[11.1 22.   2.   1. ]\n",
      "  [ 2.  33.  21.   1. ]]]\n"
     ]
    }
   ],
   "source": [
    "#creating numpy\n",
    "a=np.array([1,2,3,4])\n",
    "b=np.array([(5,6,7,8),(9,8,10,11)],dtype=float)\n",
    "c=np.array([[(1.5,8.9,10,0),(1,2,33,4)],[(11.1,22,2,1),(2,33,21,1)]],dtype=float)\n",
    "print(a)\n",
    "print(b)\n",
    "print(c)"
   ]
  },
  {
   "cell_type": "code",
   "execution_count": null,
   "id": "2539d9ae-7bf2-47d2-bff7-d2402933b049",
   "metadata": {},
   "outputs": [],
   "source": [
    "#Initial placeholders "
   ]
  },
  {
   "cell_type": "code",
   "execution_count": 47,
   "id": "cf268ec2-8395-493d-bcca-116e369bf2ac",
   "metadata": {},
   "outputs": [
    {
     "data": {
      "text/plain": [
       "array([[0., 0., 0., 0., 0.],\n",
       "       [0., 0., 0., 0., 0.],\n",
       "       [0., 0., 0., 0., 0.],\n",
       "       [0., 0., 0., 0., 0.],\n",
       "       [0., 0., 0., 0., 0.],\n",
       "       [0., 0., 0., 0., 0.],\n",
       "       [0., 0., 0., 0., 0.],\n",
       "       [0., 0., 0., 0., 0.],\n",
       "       [0., 0., 0., 0., 0.],\n",
       "       [0., 0., 0., 0., 0.]])"
      ]
     },
     "execution_count": 47,
     "metadata": {},
     "output_type": "execute_result"
    }
   ],
   "source": [
    "#creating an array of zeros\n",
    "np.zeros((10,5))#rows & colomns"
   ]
  },
  {
   "cell_type": "code",
   "execution_count": 45,
   "id": "5c49abb3-01af-4330-b1da-2b2a8886d002",
   "metadata": {},
   "outputs": [
    {
     "data": {
      "text/plain": [
       "array([[[1., 1.],\n",
       "        [1., 1.],\n",
       "        [1., 1.],\n",
       "        [1., 1.]]])"
      ]
     },
     "execution_count": 45,
     "metadata": {},
     "output_type": "execute_result"
    }
   ],
   "source": [
    "#creating an array of one's\n",
    "np.ones((2,4,2))#shape(depth),rows,colomns"
   ]
  },
  {
   "cell_type": "code",
   "execution_count": 57,
   "id": "d117c25c-a99a-42c1-b0f2-a1167cf6c494",
   "metadata": {},
   "outputs": [
    {
     "name": "stdout",
     "output_type": "stream",
     "text": [
      "[ 0  5 10 15 20]\n"
     ]
    }
   ],
   "source": [
    "#creating an array of values with same differene\n",
    "d=np.arange(0,25,5)\n",
    "print(d)"
   ]
  },
  {
   "cell_type": "code",
   "execution_count": 63,
   "id": "e5502f1d-86dc-4306-ba58-c6a780051864",
   "metadata": {},
   "outputs": [
    {
     "data": {
      "text/plain": [
       "array([ 0.        ,  0.34482759,  0.68965517,  1.03448276,  1.37931034,\n",
       "        1.72413793,  2.06896552,  2.4137931 ,  2.75862069,  3.10344828,\n",
       "        3.44827586,  3.79310345,  4.13793103,  4.48275862,  4.82758621,\n",
       "        5.17241379,  5.51724138,  5.86206897,  6.20689655,  6.55172414,\n",
       "        6.89655172,  7.24137931,  7.5862069 ,  7.93103448,  8.27586207,\n",
       "        8.62068966,  8.96551724,  9.31034483,  9.65517241, 10.        ])"
      ]
     },
     "execution_count": 63,
     "metadata": {},
     "output_type": "execute_result"
    }
   ],
   "source": [
    "#creating an array with evenly spaced values with same difference\n",
    "np.linspace(0,10,30)"
   ]
  },
  {
   "cell_type": "code",
   "execution_count": 73,
   "id": "e7b62f65-3d2c-43a3-ac85-c0acf8184944",
   "metadata": {},
   "outputs": [
    {
     "name": "stdout",
     "output_type": "stream",
     "text": [
      "[100 100 100 100 100]\n"
     ]
    }
   ],
   "source": [
    "#creating a 1D array with same values\n",
    "e=np.full((5),100)\n",
    "print(e)"
   ]
  },
  {
   "cell_type": "code",
   "execution_count": 81,
   "id": "8e74aa4d-4962-412c-9b7c-a3125feb75e8",
   "metadata": {},
   "outputs": [
    {
     "name": "stdout",
     "output_type": "stream",
     "text": [
      "[[100 100 100 100]\n",
      " [100 100 100 100]\n",
      " [100 100 100 100]]\n",
      "2\n"
     ]
    }
   ],
   "source": [
    "#creating a 2D array with same values and printing dimensions\n",
    "f=np.full((3,4),100)\n",
    "print(f)\n",
    "print(f.ndim)"
   ]
  },
  {
   "cell_type": "code",
   "execution_count": 87,
   "id": "c38744e9-0bdf-479b-86a3-feb9cb331134",
   "metadata": {},
   "outputs": [
    {
     "name": "stdout",
     "output_type": "stream",
     "text": [
      "[[[100 100 100 100 100]\n",
      "  [100 100 100 100 100]\n",
      "  [100 100 100 100 100]\n",
      "  [100 100 100 100 100]]\n",
      "\n",
      " [[100 100 100 100 100]\n",
      "  [100 100 100 100 100]\n",
      "  [100 100 100 100 100]\n",
      "  [100 100 100 100 100]]\n",
      "\n",
      " [[100 100 100 100 100]\n",
      "  [100 100 100 100 100]\n",
      "  [100 100 100 100 100]\n",
      "  [100 100 100 100 100]]]\n",
      "3\n"
     ]
    }
   ],
   "source": [
    "#creating a 2D array with same values and printing dimensions\n",
    "g=np.full((3,4,5),100)\n",
    "print(g)\n",
    "print(g.ndim)"
   ]
  },
  {
   "cell_type": "code",
   "execution_count": 103,
   "id": "fa19c7a0-9b6f-4caf-8473-5528d624e942",
   "metadata": {},
   "outputs": [
    {
     "name": "stdout",
     "output_type": "stream",
     "text": [
      "[[1. 0. 0. 0.]\n",
      " [0. 1. 0. 0.]\n",
      " [0. 0. 1. 0.]\n",
      " [0. 0. 0. 1.]]\n"
     ]
    }
   ],
   "source": [
    "#creating an nXn identity matrix\n",
    "h=np.eye(4)\n",
    "print(h)"
   ]
  },
  {
   "cell_type": "code",
   "execution_count": 105,
   "id": "54b8cc2b-30d5-4191-82e7-1a98802a0ab5",
   "metadata": {},
   "outputs": [
    {
     "data": {
      "text/plain": [
       "array([[0.27111715, 0.72203792, 0.52759372],\n",
       "       [0.85512246, 0.46567742, 0.99631064]])"
      ]
     },
     "execution_count": 105,
     "metadata": {},
     "output_type": "execute_result"
    }
   ],
   "source": [
    "#creating an array with random values(between 0 and 1 only)\n",
    "np.random.random((2,3))"
   ]
  },
  {
   "cell_type": "code",
   "execution_count": 123,
   "id": "05e8f352-25e3-4c7e-9b93-087fb633ac2e",
   "metadata": {},
   "outputs": [
    {
     "name": "stdout",
     "output_type": "stream",
     "text": [
      "(3, 5)\n"
     ]
    },
    {
     "data": {
      "text/plain": [
       "(3, 5)"
      ]
     },
     "execution_count": 123,
     "metadata": {},
     "output_type": "execute_result"
    }
   ],
   "source": [
    "#to find dimensions of matrix\n",
    "arr=np.array([[1,2,3,4,5],\n",
    "              [2,3,4,5,6],\n",
    "              [3,4,5,6,7]])\n",
    "#print(np.shape(arr))\n",
    "arr.shape"
   ]
  },
  {
   "cell_type": "code",
   "execution_count": 125,
   "id": "627f2196-1657-4acf-a338-9d812449f8bd",
   "metadata": {},
   "outputs": [
    {
     "name": "stdout",
     "output_type": "stream",
     "text": [
      "15\n"
     ]
    }
   ],
   "source": [
    "#to find no.of elements in an array\n",
    "arr=np.array([[1,2,3,4,5],\n",
    "              [2,3,4,5,6],\n",
    "              [3,4,5,6,7]])\n",
    "print(arr.size)"
   ]
  },
  {
   "cell_type": "code",
   "execution_count": 3,
   "id": "2fc3bcdf-16ef-40e9-b900-64da81b2283a",
   "metadata": {},
   "outputs": [
    {
     "data": {
      "text/plain": [
       "3"
      ]
     },
     "execution_count": 3,
     "metadata": {},
     "output_type": "execute_result"
    }
   ],
   "source": [
    "#to find length of array \n",
    "arr=np.array([[1,2,3,4,5],\n",
    "              [2,3,4,5,6],\n",
    "              [3,4,5,6,7]])\n",
    "len(arr)"
   ]
  },
  {
   "cell_type": "code",
   "execution_count": 11,
   "id": "e265e1d8-0239-45d8-bb6e-205e166378ef",
   "metadata": {},
   "outputs": [
    {
     "name": "stdout",
     "output_type": "stream",
     "text": [
      "2\n",
      "6\n",
      "2 3 5\n"
     ]
    }
   ],
   "source": [
    "#accessing array elements\n",
    "#we can access the elements using the index values\n",
    "arr=np.array([1,2,3,5,6,677])\n",
    "print(arr[1])\n",
    "print(arr[4])\n",
    "print(*arr[1:4])"
   ]
  },
  {
   "cell_type": "code",
   "execution_count": 33,
   "id": "d6739e91-2a2d-417a-a987-155061521a32",
   "metadata": {},
   "outputs": [
    {
     "name": "stdout",
     "output_type": "stream",
     "text": [
      "8.0\n"
     ]
    },
    {
     "data": {
      "text/plain": [
       "dtype('float64')"
      ]
     },
     "execution_count": 33,
     "metadata": {},
     "output_type": "execute_result"
    }
   ],
   "source": [
    "#adding two index positions\n",
    "arr1=np.array([1,2,3,4,5,6])\n",
    "arr2=np.array([7.8,8,33,4,55,66])\n",
    "x=arr1[3]+arr2[3]\n",
    "print(x)\n",
    "np.dtype(x)"
   ]
  },
  {
   "cell_type": "code",
   "execution_count": 63,
   "id": "07bff6f1-d4fd-4e6d-8a20-897fc806e159",
   "metadata": {},
   "outputs": [
    {
     "name": "stdout",
     "output_type": "stream",
     "text": [
      "9\n",
      "3\n",
      "8\n"
     ]
    }
   ],
   "source": [
    "#accessing elements in 2D array\n",
    "arr=np.array([[1,2,3,4,5],[6,7,8,9,0],[1,2,3,4,5],[6,7,8,9,0]])\n",
    "print(arr[1,3])\n",
    "print(arr[0,2])\n",
    "print(arr[3,2])"
   ]
  },
  {
   "cell_type": "code",
   "execution_count": 89,
   "id": "114ec8ab-1ced-480b-a683-7f8d0e27f164",
   "metadata": {},
   "outputs": [
    {
     "name": "stdout",
     "output_type": "stream",
     "text": [
      "9\n",
      "1\n",
      "0\n"
     ]
    }
   ],
   "source": [
    "#accessing elements in 3D array\n",
    "arr=np.array([[[1,2,3,4,5],\n",
    "               [6,7,8,9,0],\n",
    "               [1,2,3,4,5],\n",
    "               [6,7,8,9,0]],\n",
    "              [[1,2,3,4,5],\n",
    "               [6,7,8,9,0],\n",
    "               [1,2,3,4,5],\n",
    "               [6,7,8,9,0]],\n",
    "              [[1,2,3,4,5],\n",
    "               [6,7,8,9,0],\n",
    "               [1,2,3,4,5],\n",
    "               [6,7,8,9,0]]]\n",
    "              )\n",
    "print(arr[1,1,3])\n",
    "print(arr[0,0,0])\n",
    "print(arr[2,1,4])"
   ]
  },
  {
   "cell_type": "code",
   "execution_count": 97,
   "id": "b571691b-19af-4ba0-9fc8-4accff4317aa",
   "metadata": {},
   "outputs": [
    {
     "name": "stdout",
     "output_type": "stream",
     "text": [
      "[b'1' b'2' b'3' b'4']\n",
      "|S1\n"
     ]
    }
   ],
   "source": [
    "#data types in numpy\n",
    "'''\n",
    "i--integer\n",
    "b--boolean\n",
    "u--unsigned integer\n",
    "f--float\n",
    "c--complex float\n",
    "M--date and time\n",
    "O--object\n",
    "S--string\n",
    "'''\n",
    "#string\n",
    "arr=np.array([1,2,3,4],dtype='S')\n",
    "print(arr)\n",
    "print(arr.dtype)"
   ]
  },
  {
   "cell_type": "code",
   "execution_count": 121,
   "id": "ff0313fa-71fb-4189-b056-64e71ed48be4",
   "metadata": {},
   "outputs": [
    {
     "name": "stdout",
     "output_type": "stream",
     "text": [
      "[         1          2         33          4          5         55\n",
      " 1111111111]\n",
      "int32\n"
     ]
    }
   ],
   "source": [
    "#integer\n",
    "arr=np.array([1,2,33,4,5.5,55.55,1111111111],dtype='i')\n",
    "print(arr)\n",
    "print(arr.dtype)"
   ]
  },
  {
   "cell_type": "code",
   "execution_count": 127,
   "id": "30ff1fef-e4ba-4d80-9194-316a5576801a",
   "metadata": {},
   "outputs": [
    {
     "name": "stdout",
     "output_type": "stream",
     "text": [
      "[1 2 3 4 5]\n"
     ]
    }
   ],
   "source": [
    "#changing float to int\n",
    "arr=np.array([1.1,2.2,3.3,4,5.5])\n",
    "new_arr=arr.astype('i')\n",
    "print(new_arr)"
   ]
  },
  {
   "cell_type": "code",
   "execution_count": 129,
   "id": "3b345e5c-e286-4e70-aa4c-526b38d658fd",
   "metadata": {},
   "outputs": [
    {
     "name": "stdout",
     "output_type": "stream",
     "text": [
      "[False  True  True  True  True  True]\n"
     ]
    }
   ],
   "source": [
    "#changing float to boolean\n",
    "arr=np.array([0.0,1.1,2.2,3.3,4,5.5])\n",
    "x=arr.astype(bool)\n",
    "print(x)"
   ]
  },
  {
   "cell_type": "code",
   "execution_count": 131,
   "id": "9bbfe7ef-7a09-408e-9317-5b7bc78b0183",
   "metadata": {},
   "outputs": [
    {
     "name": "stdout",
     "output_type": "stream",
     "text": [
      "[0. 1. 2. 3. 4. 5.]\n"
     ]
    }
   ],
   "source": [
    "#changing int to float\n",
    "arr=np.array([0,1,2,3,4,5])\n",
    "x=arr.astype('f')\n",
    "print(x)"
   ]
  },
  {
   "cell_type": "code",
   "execution_count": 135,
   "id": "c6310251-65b6-44dd-adf0-3a4fc86fa2b3",
   "metadata": {},
   "outputs": [
    {
     "name": "stdout",
     "output_type": "stream",
     "text": [
      "['1.1' '2.2' '3.3' '4.0' '5.5']\n"
     ]
    }
   ],
   "source": [
    "#changing float to unsigned integer\n",
    "arr=np.array([1.1,2.2,3.3,4,5.5])\n",
    "new_arr=arr.astype('U')\n",
    "print(new_arr)"
   ]
  },
  {
   "cell_type": "code",
   "execution_count": 137,
   "id": "06b22052-8167-4bff-9956-09cf791ca4cd",
   "metadata": {},
   "outputs": [
    {
     "name": "stdout",
     "output_type": "stream",
     "text": [
      "['1' '2' '3' '4' '5']\n"
     ]
    }
   ],
   "source": [
    "#changing int to unsigned integer\n",
    "arr=np.array([1,2,3,4,5])\n",
    "new_arr=arr.astype('U')\n",
    "print(new_arr)"
   ]
  },
  {
   "cell_type": "code",
   "execution_count": 143,
   "id": "8ed93b18-11ad-45b5-b282-88b84360e2b3",
   "metadata": {},
   "outputs": [
    {
     "name": "stdout",
     "output_type": "stream",
     "text": [
      "[b'1' b'2' b'3' b'4' b'5']\n"
     ]
    }
   ],
   "source": [
    "#changing float to complex float\n",
    "arr=np.array([1.1,2.2,3.3,4,5.5])\n",
    "new_arr=arr.astype('c')\n",
    "print(new_arr)"
   ]
  },
  {
   "cell_type": "code",
   "execution_count": 145,
   "id": "1089887c-b8aa-43f2-838c-40daca51184d",
   "metadata": {},
   "outputs": [
    {
     "name": "stdout",
     "output_type": "stream",
     "text": [
      "[b'1' b'2' b'3' b'4' b'5']\n"
     ]
    }
   ],
   "source": [
    "#changing int to complex float\n",
    "arr=np.array([1,2,3,4,5])\n",
    "new_arr=arr.astype('c')\n",
    "print(new_arr)"
   ]
  },
  {
   "cell_type": "code",
   "execution_count": 149,
   "id": "24362977-76cf-4e3e-b789-87e7f6144810",
   "metadata": {},
   "outputs": [
    {
     "name": "stdout",
     "output_type": "stream",
     "text": [
      "[     0    221    212  12112 122121]\n"
     ]
    }
   ],
   "source": [
    "#copy method\n",
    "arr=np.array([21,221,212,12112,122121])\n",
    "temp=arr.copy()\n",
    "arr[0]=2\n",
    "temp[0]=0\n",
    "print(temp)"
   ]
  },
  {
   "cell_type": "code",
   "execution_count": 155,
   "id": "9e9cb2bc-2b0b-4ff9-aa51-042960e80276",
   "metadata": {},
   "outputs": [
    {
     "name": "stdout",
     "output_type": "stream",
     "text": [
      "[     2    221    212  12112 122121]\n"
     ]
    }
   ],
   "source": [
    "#view method\n",
    "arr=np.array([21,221,212,12112,122121])\n",
    "temp=arr.view()\n",
    "arr[0]=2\n",
    "print(temp)"
   ]
  },
  {
   "cell_type": "code",
   "execution_count": 177,
   "id": "a6c767ef-5d11-470b-b5b0-b928f648ee16",
   "metadata": {},
   "outputs": [
    {
     "name": "stdout",
     "output_type": "stream",
     "text": [
      "[[ 1  2  3  4  5  6]\n",
      " [ 7  8  9 10 11 12]\n",
      " [13 14 15 16 17 18]]\n",
      "--------------------\n",
      "[[ 1  2]\n",
      " [ 3  4]\n",
      " [ 5  6]\n",
      " [ 7  8]\n",
      " [ 9 10]\n",
      " [11 12]\n",
      " [13 14]\n",
      " [15 16]\n",
      " [17 18]]\n"
     ]
    }
   ],
   "source": [
    "#Reshaping arrays\n",
    "#reshaping means chaning the shape of an array\n",
    "#converting 1D array to 2D array\n",
    "arr=np.array([1,2,3,4,5,6,7,8,9,10,11,12,13,14,15,16,17,18])\n",
    "x=arr.reshape(3,6)\n",
    "y=arr.reshape(9,2)\n",
    "print(x)\n",
    "print(\"--------------------\")\n",
    "print(y)"
   ]
  },
  {
   "cell_type": "code",
   "execution_count": 189,
   "id": "c8653842-e544-4423-9432-01b7426101c7",
   "metadata": {},
   "outputs": [
    {
     "name": "stdout",
     "output_type": "stream",
     "text": [
      "[[[ 1  2  3  4  5]\n",
      "  [ 6  7  8  9 10]]\n",
      "\n",
      " [[11 12 13 14 15]\n",
      "  [16 17 18 19 20]]]\n",
      "---------------------\n",
      "[[[ 1  2]\n",
      "  [ 3  4]]\n",
      "\n",
      " [[ 5  6]\n",
      "  [ 7  8]]\n",
      "\n",
      " [[ 9 10]\n",
      "  [11 12]]\n",
      "\n",
      " [[13 14]\n",
      "  [15 16]]\n",
      "\n",
      " [[17 18]\n",
      "  [19 20]]]\n"
     ]
    }
   ],
   "source": [
    "#converting 1D array into 3D array\n",
    "arr=np.array([1,2,3,4,5,6,7,8,9,10,11,12,13,14,15,16,17,18,19,20])\n",
    "x=arr.reshape(2,2,5)\n",
    "print(x)\n",
    "print(\"---------------------\")\n",
    "y=arr.reshape(5,2,2)\n",
    "print(y)"
   ]
  },
  {
   "cell_type": "code",
   "execution_count": 205,
   "id": "ecda931f-e442-48f7-9884-1e88882706b4",
   "metadata": {},
   "outputs": [
    {
     "name": "stdout",
     "output_type": "stream",
     "text": [
      "[ 1  2  3  4  5  6  7  8  9 10 11 12 13 14 15 16 17 18]\n"
     ]
    }
   ],
   "source": [
    "#converting 2D array into 1D array\n",
    "arr=np.array([[1,2,3,4,5,6],\n",
    "              [7,8,9,10,11,12],\n",
    "              [13,14,15,16,17,18]])\n",
    "x=arr.reshape(arr.size)\n",
    "print(x)"
   ]
  },
  {
   "cell_type": "code",
   "execution_count": 215,
   "id": "96a94c14-2269-4c77-a570-e0974156109c",
   "metadata": {},
   "outputs": [
    {
     "name": "stdout",
     "output_type": "stream",
     "text": [
      "18\n",
      "[[[ 1  2  3]\n",
      "  [ 4  5  6]]\n",
      "\n",
      " [[ 7  8  9]\n",
      "  [10 11 12]]\n",
      "\n",
      " [[13 14 15]\n",
      "  [16 17 18]]]\n",
      "----------------------\n",
      "[[[ 1  2  3]\n",
      "  [ 4  5  6]\n",
      "  [ 7  8  9]]\n",
      "\n",
      " [[10 11 12]\n",
      "  [13 14 15]\n",
      "  [16 17 18]]]\n",
      "----------------------\n",
      "[[[ 1  2]\n",
      "  [ 3  4]\n",
      "  [ 5  6]]\n",
      "\n",
      " [[ 7  8]\n",
      "  [ 9 10]\n",
      "  [11 12]]\n",
      "\n",
      " [[13 14]\n",
      "  [15 16]\n",
      "  [17 18]]]\n"
     ]
    }
   ],
   "source": [
    "#converting 2D array into 3D array\n",
    "arr=np.array([[1,2,3,4,5,6],\n",
    "              [7,8,9,10,11,12],\n",
    "              [13,14,15,16,17,18]])\n",
    "print(arr.size)\n",
    "x=arr.reshape(3,2,3)\n",
    "print(x)\n",
    "print(\"----------------------\")\n",
    "y=arr.reshape(2,3,3)\n",
    "print(y)\n",
    "print(\"----------------------\")\n",
    "z=arr.reshape(3,3,2)\n",
    "print(z)"
   ]
  },
  {
   "cell_type": "code",
   "execution_count": 217,
   "id": "0518141a-a505-4689-86f6-22e4f8cbe4f5",
   "metadata": {},
   "outputs": [
    {
     "name": "stdout",
     "output_type": "stream",
     "text": [
      "[ 1  2  3  4  5  6  7  8  9 10 11 12 13 14 15 16 17 18 19 20 21 22 23 24\n",
      " 25 26 27 28 29 30 31 32 33 34 35 36]\n"
     ]
    }
   ],
   "source": [
    "#converting 3D array into 1D array\n",
    "arr=np.array([[[1,2,3,4,5,6],[7,8,9,10,11,12]],\n",
    "              [[13,14,15,16,17,18],[19,20,21,22,23,24]],\n",
    "              [[25,26,27,28,29,30],[31,32,33,34,35,36]]])\n",
    "x=arr.reshape(arr.size)\n",
    "print(x)"
   ]
  },
  {
   "cell_type": "code",
   "execution_count": 229,
   "id": "ca1776b1-d82d-439f-8b36-f14e5c04806b",
   "metadata": {},
   "outputs": [
    {
     "name": "stdout",
     "output_type": "stream",
     "text": [
      "36\n",
      "[[ 1  2  3  4  5  6]\n",
      " [ 7  8  9 10 11 12]\n",
      " [13 14 15 16 17 18]\n",
      " [19 20 21 22 23 24]\n",
      " [25 26 27 28 29 30]\n",
      " [31 32 33 34 35 36]]\n",
      "---------------------------------------------------\n",
      "[[ 1  2  3  4  5  6  7  8  9 10 11 12 13 14 15 16 17 18]\n",
      " [19 20 21 22 23 24 25 26 27 28 29 30 31 32 33 34 35 36]]\n",
      "---------------------------------------------------\n",
      "[[ 1  2  3  4  5  6  7  8  9 10 11 12]\n",
      " [13 14 15 16 17 18 19 20 21 22 23 24]\n",
      " [25 26 27 28 29 30 31 32 33 34 35 36]]\n",
      "---------------------------------------------------\n",
      "[[ 1  2  3  4  5  6  7  8  9]\n",
      " [10 11 12 13 14 15 16 17 18]\n",
      " [19 20 21 22 23 24 25 26 27]\n",
      " [28 29 30 31 32 33 34 35 36]]\n"
     ]
    }
   ],
   "source": [
    "#converting 3D array into 2D array\n",
    "arr=np.array([[[1,2,3,4,5,6],[7,8,9,10,11,12]],\n",
    "              [[13,14,15,16,17,18],[19,20,21,22,23,24]],\n",
    "              [[25,26,27,28,29,30],[31,32,33,34,35,36]]])\n",
    "print(arr.size)\n",
    "x=arr.reshape(6,6)\n",
    "print(x)\n",
    "print(\"---------------------------------------------------\")\n",
    "y=arr.reshape(2,18)\n",
    "print(y)\n",
    "print(\"---------------------------------------------------\")\n",
    "z=arr.reshape(3,12)\n",
    "print(z)\n",
    "print(\"---------------------------------------------------\")\n",
    "a=arr.reshape(4,9)\n",
    "print(a)"
   ]
  },
  {
   "cell_type": "code",
   "execution_count": null,
   "id": "61e05f12-25a6-4aa2-ab80-a8d5479a0260",
   "metadata": {},
   "outputs": [],
   "source": []
  },
  {
   "cell_type": "code",
   "execution_count": 252,
   "id": "e3560a1d-4e9e-4770-98c0-6034ff951438",
   "metadata": {},
   "outputs": [
    {
     "name": "stdout",
     "output_type": "stream",
     "text": [
      "[  2   2   5  12  55 102]\n"
     ]
    }
   ],
   "source": [
    "#sorting arrays\n",
    "arr=np.array([5,2,55,2,102,12])\n",
    "x=np.sort(arr)\n",
    "print(x)"
   ]
  },
  {
   "cell_type": "code",
   "execution_count": 258,
   "id": "50d9e8f6-1740-4659-a58e-0e3c64d8268f",
   "metadata": {},
   "outputs": [
    {
     "name": "stdout",
     "output_type": "stream",
     "text": [
      "[ 3  4  5  6  7  8  9 10 11 12 13 14 15 16 17 18]\n",
      "[ 5  6  7  8  9 10 11 12 13 14 15 16 17]\n"
     ]
    }
   ],
   "source": [
    "#slicing arrays\n",
    "arr=np.array([1,2,3,4,5,6,7,8,9,10,11,12,13,14,15,16,17,18,19,20])\n",
    "#positive slicing\n",
    "print(arr[2:18])\n",
    "#negative slicing\n",
    "print(arr[-16:-3])"
   ]
  },
  {
   "cell_type": "code",
   "execution_count": 270,
   "id": "9d44b20c-bf80-4638-8b54-8b82bb765be8",
   "metadata": {},
   "outputs": [
    {
     "name": "stdout",
     "output_type": "stream",
     "text": [
      "[2 3 4]\n",
      "----------\n",
      "[[ 4  5]\n",
      " [10 11]]\n",
      "----------\n",
      "[[ 1  2  3  4  5  6]\n",
      " [ 7  8  9 10 11 12]\n",
      " [13 14 15 16 17 18]]\n"
     ]
    }
   ],
   "source": [
    "#slicing 2D arrays\n",
    "arr=np.array([[1,2,3,4,5,6],\n",
    "              [7,8,9,10,11,12],\n",
    "              [13,14,15,16,17,18]])\n",
    "print(arr[0,1:4])\n",
    "print(\"----------\")\n",
    "print(arr[0:2,3:5])\n",
    "print(\"----------\")\n",
    "print(arr[:,:])"
   ]
  },
  {
   "cell_type": "code",
   "execution_count": 284,
   "id": "5bfb1350-0223-4c91-a067-e76f27c4b7ab",
   "metadata": {},
   "outputs": [
    {
     "name": "stdout",
     "output_type": "stream",
     "text": [
      "[2 3 4]\n",
      "----------\n",
      "[[ 4  5]\n",
      " [10 11]]\n",
      "----------\n",
      "[[[ 1  2  3  4  5  6]\n",
      "  [ 7  8  9 10 11 12]]\n",
      "\n",
      " [[13 14 15 16 17 18]\n",
      "  [19 20 21 22 23 24]]\n",
      "\n",
      " [[25 26 27 28 29 30]\n",
      "  [31 32 33 34 35 36]]]\n"
     ]
    }
   ],
   "source": [
    "#slicing 3D arrays\n",
    "arr=np.array([[[1,2,3,4,5,6],[7,8,9,10,11,12]],\n",
    "              [[13,14,15,16,17,18],[19,20,21,22,23,24]],\n",
    "              [[25,26,27,28,29,30],[31,32,33,34,35,36]]])\n",
    "print(arr[0,0,1:4])\n",
    "print(\"----------\")\n",
    "print(arr[0,0:2,3:5])\n",
    "print(\"----------\")\n",
    "print(arr[:,:,:])"
   ]
  },
  {
   "cell_type": "code",
   "execution_count": null,
   "id": "4389036d-0df6-4ea3-b606-9bd0c0215ba1",
   "metadata": {},
   "outputs": [],
   "source": []
  }
 ],
 "metadata": {
  "kernelspec": {
   "display_name": "Python 3 (ipykernel)",
   "language": "python",
   "name": "python3"
  },
  "language_info": {
   "codemirror_mode": {
    "name": "ipython",
    "version": 3
   },
   "file_extension": ".py",
   "mimetype": "text/x-python",
   "name": "python",
   "nbconvert_exporter": "python",
   "pygments_lexer": "ipython3",
   "version": "3.12.4"
  }
 },
 "nbformat": 4,
 "nbformat_minor": 5
}
