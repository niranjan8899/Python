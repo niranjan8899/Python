{
 "cells": [
  {
   "cell_type": "code",
   "execution_count": 1,
   "id": "4cb640d0-3dcf-4040-ac11-69628bfe6d56",
   "metadata": {},
   "outputs": [
    {
     "name": "stdout",
     "output_type": "stream",
     "text": [
      "Requirement already satisfied: numpy in /opt/anaconda3/lib/python3.12/site-packages (1.26.4)\n"
     ]
    }
   ],
   "source": [
    "#Numpy\n",
    "!pip install numpy"
   ]
  },
  {
   "cell_type": "code",
   "execution_count": 3,
   "id": "d2c5c1f3-a003-4f31-a70f-8f5abb542c96",
   "metadata": {},
   "outputs": [],
   "source": [
    "#importing numpy\n",
    "import numpy as np"
   ]
  },
  {
   "cell_type": "code",
   "execution_count": 27,
   "id": "41b98e93-a9b7-4294-a07a-f26c562d9b1e",
   "metadata": {},
   "outputs": [
    {
     "name": "stdout",
     "output_type": "stream",
     "text": [
      "[1 2 3 4]\n",
      "[[ 5.  6.  7.  8.]\n",
      " [ 9.  8. 10. 11.]]\n",
      "[[[ 1.5  8.9 10.   0. ]\n",
      "  [ 1.   2.  33.   4. ]]\n",
      "\n",
      " [[11.1 22.   2.   1. ]\n",
      "  [ 2.  33.  21.   1. ]]]\n"
     ]
    }
   ],
   "source": [
    "#creating numpy\n",
    "a=np.array([1,2,3,4])\n",
    "b=np.array([(5,6,7,8),(9,8,10,11)],dtype=float)\n",
    "c=np.array([[(1.5,8.9,10,0),(1,2,33,4)],[(11.1,22,2,1),(2,33,21,1)]],dtype=float)\n",
    "print(a)\n",
    "print(b)\n",
    "print(c)"
   ]
  },
  {
   "cell_type": "code",
   "execution_count": null,
   "id": "2539d9ae-7bf2-47d2-bff7-d2402933b049",
   "metadata": {},
   "outputs": [],
   "source": [
    "#Initial placeholders "
   ]
  },
  {
   "cell_type": "code",
   "execution_count": 47,
   "id": "cf268ec2-8395-493d-bcca-116e369bf2ac",
   "metadata": {},
   "outputs": [
    {
     "data": {
      "text/plain": [
       "array([[0., 0., 0., 0., 0.],\n",
       "       [0., 0., 0., 0., 0.],\n",
       "       [0., 0., 0., 0., 0.],\n",
       "       [0., 0., 0., 0., 0.],\n",
       "       [0., 0., 0., 0., 0.],\n",
       "       [0., 0., 0., 0., 0.],\n",
       "       [0., 0., 0., 0., 0.],\n",
       "       [0., 0., 0., 0., 0.],\n",
       "       [0., 0., 0., 0., 0.],\n",
       "       [0., 0., 0., 0., 0.]])"
      ]
     },
     "execution_count": 47,
     "metadata": {},
     "output_type": "execute_result"
    }
   ],
   "source": [
    "#creating an array of zeros\n",
    "np.zeros((10,5))#rows & colomns"
   ]
  },
  {
   "cell_type": "code",
   "execution_count": 45,
   "id": "5c49abb3-01af-4330-b1da-2b2a8886d002",
   "metadata": {},
   "outputs": [
    {
     "data": {
      "text/plain": [
       "array([[[1., 1.],\n",
       "        [1., 1.],\n",
       "        [1., 1.],\n",
       "        [1., 1.]]])"
      ]
     },
     "execution_count": 45,
     "metadata": {},
     "output_type": "execute_result"
    }
   ],
   "source": [
    "#creating an array of one's\n",
    "np.ones((2,4,2))#shape(depth),rows,colomns"
   ]
  },
  {
   "cell_type": "code",
   "execution_count": 57,
   "id": "d117c25c-a99a-42c1-b0f2-a1167cf6c494",
   "metadata": {},
   "outputs": [
    {
     "name": "stdout",
     "output_type": "stream",
     "text": [
      "[ 0  5 10 15 20]\n"
     ]
    }
   ],
   "source": [
    "#creating an array of values with same differene\n",
    "d=np.arange(0,25,5)\n",
    "print(d)"
   ]
  },
  {
   "cell_type": "code",
   "execution_count": 63,
   "id": "e5502f1d-86dc-4306-ba58-c6a780051864",
   "metadata": {},
   "outputs": [
    {
     "data": {
      "text/plain": [
       "array([ 0.        ,  0.34482759,  0.68965517,  1.03448276,  1.37931034,\n",
       "        1.72413793,  2.06896552,  2.4137931 ,  2.75862069,  3.10344828,\n",
       "        3.44827586,  3.79310345,  4.13793103,  4.48275862,  4.82758621,\n",
       "        5.17241379,  5.51724138,  5.86206897,  6.20689655,  6.55172414,\n",
       "        6.89655172,  7.24137931,  7.5862069 ,  7.93103448,  8.27586207,\n",
       "        8.62068966,  8.96551724,  9.31034483,  9.65517241, 10.        ])"
      ]
     },
     "execution_count": 63,
     "metadata": {},
     "output_type": "execute_result"
    }
   ],
   "source": [
    "#creating an array with evenly spaced values with same difference\n",
    "np.linspace(0,10,30)"
   ]
  },
  {
   "cell_type": "code",
   "execution_count": 73,
   "id": "e7b62f65-3d2c-43a3-ac85-c0acf8184944",
   "metadata": {},
   "outputs": [
    {
     "name": "stdout",
     "output_type": "stream",
     "text": [
      "[100 100 100 100 100]\n"
     ]
    }
   ],
   "source": [
    "#creating a 1D array with same values\n",
    "e=np.full((5),100)\n",
    "print(e)"
   ]
  },
  {
   "cell_type": "code",
   "execution_count": 81,
   "id": "8e74aa4d-4962-412c-9b7c-a3125feb75e8",
   "metadata": {},
   "outputs": [
    {
     "name": "stdout",
     "output_type": "stream",
     "text": [
      "[[100 100 100 100]\n",
      " [100 100 100 100]\n",
      " [100 100 100 100]]\n",
      "2\n"
     ]
    }
   ],
   "source": [
    "#creating a 2D array with same values and printing dimensions\n",
    "f=np.full((3,4),100)\n",
    "print(f)\n",
    "print(f.ndim)"
   ]
  },
  {
   "cell_type": "code",
   "execution_count": 87,
   "id": "c38744e9-0bdf-479b-86a3-feb9cb331134",
   "metadata": {},
   "outputs": [
    {
     "name": "stdout",
     "output_type": "stream",
     "text": [
      "[[[100 100 100 100 100]\n",
      "  [100 100 100 100 100]\n",
      "  [100 100 100 100 100]\n",
      "  [100 100 100 100 100]]\n",
      "\n",
      " [[100 100 100 100 100]\n",
      "  [100 100 100 100 100]\n",
      "  [100 100 100 100 100]\n",
      "  [100 100 100 100 100]]\n",
      "\n",
      " [[100 100 100 100 100]\n",
      "  [100 100 100 100 100]\n",
      "  [100 100 100 100 100]\n",
      "  [100 100 100 100 100]]]\n",
      "3\n"
     ]
    }
   ],
   "source": [
    "#creating a 2D array with same values and printing dimensions\n",
    "g=np.full((3,4,5),100)\n",
    "print(g)\n",
    "print(g.ndim)"
   ]
  },
  {
   "cell_type": "code",
   "execution_count": 103,
   "id": "fa19c7a0-9b6f-4caf-8473-5528d624e942",
   "metadata": {},
   "outputs": [
    {
     "name": "stdout",
     "output_type": "stream",
     "text": [
      "[[1. 0. 0. 0.]\n",
      " [0. 1. 0. 0.]\n",
      " [0. 0. 1. 0.]\n",
      " [0. 0. 0. 1.]]\n"
     ]
    }
   ],
   "source": [
    "#creating an nXn identity matrix\n",
    "h=np.eye(4)\n",
    "print(h)"
   ]
  },
  {
   "cell_type": "code",
   "execution_count": 105,
   "id": "54b8cc2b-30d5-4191-82e7-1a98802a0ab5",
   "metadata": {},
   "outputs": [
    {
     "data": {
      "text/plain": [
       "array([[0.27111715, 0.72203792, 0.52759372],\n",
       "       [0.85512246, 0.46567742, 0.99631064]])"
      ]
     },
     "execution_count": 105,
     "metadata": {},
     "output_type": "execute_result"
    }
   ],
   "source": [
    "#creating an array with random values(between 0 and 1 only)\n",
    "np.random.random((2,3))"
   ]
  },
  {
   "cell_type": "code",
   "execution_count": 123,
   "id": "05e8f352-25e3-4c7e-9b93-087fb633ac2e",
   "metadata": {},
   "outputs": [
    {
     "name": "stdout",
     "output_type": "stream",
     "text": [
      "(3, 5)\n"
     ]
    },
    {
     "data": {
      "text/plain": [
       "(3, 5)"
      ]
     },
     "execution_count": 123,
     "metadata": {},
     "output_type": "execute_result"
    }
   ],
   "source": [
    "#to find dimensions of matrix\n",
    "arr=np.array([[1,2,3,4,5],\n",
    "              [2,3,4,5,6],\n",
    "              [3,4,5,6,7]])\n",
    "#print(np.shape(arr))\n",
    "arr.shape"
   ]
  },
  {
   "cell_type": "code",
   "execution_count": 125,
   "id": "627f2196-1657-4acf-a338-9d812449f8bd",
   "metadata": {},
   "outputs": [
    {
     "name": "stdout",
     "output_type": "stream",
     "text": [
      "15\n"
     ]
    }
   ],
   "source": [
    "#to find no.of elements in an array\n",
    "arr=np.array([[1,2,3,4,5],\n",
    "              [2,3,4,5,6],\n",
    "              [3,4,5,6,7]])\n",
    "print(arr.size)"
   ]
  },
  {
   "cell_type": "code",
   "execution_count": 127,
   "id": "2fc3bcdf-16ef-40e9-b900-64da81b2283a",
   "metadata": {},
   "outputs": [
    {
     "data": {
      "text/plain": [
       "3"
      ]
     },
     "execution_count": 127,
     "metadata": {},
     "output_type": "execute_result"
    }
   ],
   "source": [
    "#to find length of array \n",
    "arr=np.array([[1,2,3,4,5],\n",
    "              [2,3,4,5,6],\n",
    "              [3,4,5,6,7]])\n",
    "len(arr)"
   ]
  }
 ],
 "metadata": {
  "kernelspec": {
   "display_name": "Python 3 (ipykernel)",
   "language": "python",
   "name": "python3"
  },
  "language_info": {
   "codemirror_mode": {
    "name": "ipython",
    "version": 3
   },
   "file_extension": ".py",
   "mimetype": "text/x-python",
   "name": "python",
   "nbconvert_exporter": "python",
   "pygments_lexer": "ipython3",
   "version": "3.12.4"
  }
 },
 "nbformat": 4,
 "nbformat_minor": 5
}
