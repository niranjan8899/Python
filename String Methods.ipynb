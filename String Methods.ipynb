{
 "cells": [
  {
   "cell_type": "code",
   "execution_count": 15,
   "id": "be63d624-3a2a-406c-a3d4-0c1cbd39e41f",
   "metadata": {},
   "outputs": [
    {
     "name": "stdout",
     "output_type": "stream",
     "text": [
      "31\n"
     ]
    }
   ],
   "source": [
    "#1.length\n",
    "note=\"East or west friendship is best\"\n",
    "l=len(note)\n",
    "print(l)"
   ]
  },
  {
   "cell_type": "code",
   "execution_count": 13,
   "id": "a923a11a-cc95-4b8f-9b04-d5b0877e1c94",
   "metadata": {},
   "outputs": [
    {
     "name": "stdout",
     "output_type": "stream",
     "text": [
      "APPLE IS RED\n",
      "apple is red\n"
     ]
    }
   ],
   "source": [
    "#2.Lowercase and Uppercase\n",
    "a='Apple is Red'\n",
    "b=a.upper()\n",
    "print(b)\n",
    "c=a.lower()\n",
    "print(c)"
   ]
  },
  {
   "cell_type": "code",
   "execution_count": 17,
   "id": "3c079877-a5c3-429b-9fb0-f48901b9a592",
   "metadata": {},
   "outputs": [
    {
     "data": {
      "text/plain": [
       "'gives directions from   1   place to another'"
      ]
     },
     "execution_count": 17,
     "metadata": {},
     "output_type": "execute_result"
    }
   ],
   "source": [
    "#3.strip\n",
    "map=\"    gives directions from   1   place to another               \"\n",
    "d=map.strip()\n",
    "d"
   ]
  },
  {
   "cell_type": "code",
   "execution_count": 25,
   "id": "87c53566-0a02-4b3a-9c2f-317ca1e378fa",
   "metadata": {},
   "outputs": [
    {
     "data": {
      "text/plain": [
       "'movie is bad'"
      ]
     },
     "execution_count": 25,
     "metadata": {},
     "output_type": "execute_result"
    }
   ],
   "source": [
    "#4.replace\n",
    "review=\"movie is good\"\n",
    "e=review.replace(\"good\",\"bad\")\n",
    "e"
   ]
  },
  {
   "cell_type": "code",
   "execution_count": 27,
   "id": "065de9b5-0796-4d09-bf8b-9df63dd7f74e",
   "metadata": {},
   "outputs": [
    {
     "data": {
      "text/plain": [
       "['1', '2', '3', '4', '5', '6', '7', '8', '9', '10']"
      ]
     },
     "execution_count": 27,
     "metadata": {},
     "output_type": "execute_result"
    }
   ],
   "source": [
    "#5.split()\n",
    "numbers=\"1 2 3 4 5 6 7 8 9 10\"\n",
    "f=numbers.split()\n",
    "f"
   ]
  },
  {
   "cell_type": "code",
   "execution_count": 43,
   "id": "f557f54e-5bba-4c7e-a4e0-594f2622afeb",
   "metadata": {},
   "outputs": [
    {
     "data": {
      "text/plain": [
       "'prabhas-is-a-good-actor'"
      ]
     },
     "execution_count": 43,
     "metadata": {},
     "output_type": "execute_result"
    }
   ],
   "source": [
    "#6.join\n",
    "kalki=['prabhas','is','a','good','actor']\n",
    "g='-'.join(kalki)\n",
    "g"
   ]
  },
  {
   "cell_type": "code",
   "execution_count": 55,
   "id": "6b3a80fa-65a4-44c3-990e-b3762bb3227f",
   "metadata": {},
   "outputs": [
    {
     "data": {
      "text/plain": [
       "'Niranjan is good'"
      ]
     },
     "execution_count": 55,
     "metadata": {},
     "output_type": "execute_result"
    }
   ],
   "source": [
    "#7.capitalize\n",
    "fact='niranjan is good'\n",
    "h=fact.capitalize()\n",
    "h"
   ]
  },
  {
   "cell_type": "code",
   "execution_count": 53,
   "id": "d63c66af-8fc1-4c82-ac98-adea75de6bf6",
   "metadata": {},
   "outputs": [
    {
     "data": {
      "text/plain": [
       "'Lord Of Rings'"
      ]
     },
     "execution_count": 53,
     "metadata": {},
     "output_type": "execute_result"
    }
   ],
   "source": [
    "#8.title\n",
    "movie=\"lord of rings\"\n",
    "i=movie.title()\n",
    "i"
   ]
  },
  {
   "cell_type": "code",
   "execution_count": 67,
   "id": "f489dcfc-b353-4f85-aac5-1fd39b542951",
   "metadata": {},
   "outputs": [
    {
     "data": {
      "text/plain": [
       "'cHROME,oPERA,SAfari'"
      ]
     },
     "execution_count": 67,
     "metadata": {},
     "output_type": "execute_result"
    }
   ],
   "source": [
    "#9.swapcase\n",
    "browsers=\"Chrome,Opera,saFARI\"\n",
    "j=browsers.swapcase()\n",
    "j"
   ]
  },
  {
   "cell_type": "code",
   "execution_count": 69,
   "id": "adc05b91-6416-4dab-ab11-fef585a40436",
   "metadata": {},
   "outputs": [
    {
     "data": {
      "text/plain": [
       "'The rain is so heavy today    '"
      ]
     },
     "execution_count": 69,
     "metadata": {},
     "output_type": "execute_result"
    }
   ],
   "source": [
    "#10.lstrip(left strip)\n",
    "weather_report=\"   The rain is so heavy today    \"\n",
    "k=weather_report.lstrip()\n",
    "k"
   ]
  },
  {
   "cell_type": "code",
   "execution_count": 71,
   "id": "d19b2c50-65a2-4fe1-b209-0b1a795bd30b",
   "metadata": {},
   "outputs": [
    {
     "data": {
      "text/plain": [
       "'   The rain is so heavy today'"
      ]
     },
     "execution_count": 71,
     "metadata": {},
     "output_type": "execute_result"
    }
   ],
   "source": [
    "#11.rstrip(right strip)\n",
    "weather_report=\"   The rain is so heavy today    \"\n",
    "l=weather_report.rstrip()\n",
    "l"
   ]
  },
  {
   "cell_type": "code",
   "execution_count": 73,
   "id": "3f20684a-c8a6-416f-a272-a814ddf69fae",
   "metadata": {},
   "outputs": [
    {
     "data": {
      "text/plain": [
       "' aswathama is a goliath '"
      ]
     },
     "execution_count": 73,
     "metadata": {},
     "output_type": "execute_result"
    }
   ],
   "source": [
    "#12.casefold\n",
    "character=\" ASWATHAMA IS A GOLIATH \"\n",
    "m=character.casefold()\n",
    "m"
   ]
  },
  {
   "cell_type": "code",
   "execution_count": 97,
   "id": "118ea707-7561-45a2-a2fb-e8bcb069f9b3",
   "metadata": {},
   "outputs": [
    {
     "data": {
      "text/plain": [
       "'                                       ASWATHAMA IS A GOLIATH                                       '"
      ]
     },
     "execution_count": 97,
     "metadata": {},
     "output_type": "execute_result"
    }
   ],
   "source": [
    "#13.center\n",
    "center=\"ASWATHAMA IS A GOLIATH\"\n",
    "n=center.center(100)\n",
    "n"
   ]
  },
  {
   "cell_type": "code",
   "execution_count": 111,
   "id": "8d9c7442-2810-4abd-b92d-8058e560117f",
   "metadata": {},
   "outputs": [
    {
     "data": {
      "text/plain": [
       "2"
      ]
     },
     "execution_count": 111,
     "metadata": {},
     "output_type": "execute_result"
    }
   ],
   "source": [
    "#14.count\n",
    "num_count=\"fruits are tasty, fruits are healthy\"\n",
    "o=num_count.count(\"fruits\")\n",
    "o"
   ]
  },
  {
   "cell_type": "code",
   "execution_count": 117,
   "id": "f0e340e3-6885-4579-b662-b65567bbb263",
   "metadata": {},
   "outputs": [
    {
     "data": {
      "text/plain": [
       "b'python is easy to learn'"
      ]
     },
     "execution_count": 117,
     "metadata": {},
     "output_type": "execute_result"
    }
   ],
   "source": [
    "#15.encode\n",
    "code=\"python is easy to learn\"\n",
    "p=code.encode()\n",
    "p"
   ]
  },
  {
   "cell_type": "code",
   "execution_count": 133,
   "id": "369bee16-dee6-4677-bcfa-f03e2a9d2a69",
   "metadata": {},
   "outputs": [
    {
     "name": "stdout",
     "output_type": "stream",
     "text": [
      "True\n"
     ]
    },
    {
     "data": {
      "text/plain": [
       "False"
      ]
     },
     "execution_count": 133,
     "metadata": {},
     "output_type": "execute_result"
    }
   ],
   "source": [
    "#16.endswith\n",
    "numbers=\"1,2,3,4,5,6,7,8,9,10\"\n",
    "q=numbers.endswith(\"10\")\n",
    "r=numbers.endswith(\"1\")\n",
    "print(q)\n",
    "r"
   ]
  },
  {
   "cell_type": "code",
   "execution_count": 147,
   "id": "245206f2-ab0a-4f27-b61b-b3039b8f9832",
   "metadata": {},
   "outputs": [
    {
     "data": {
      "text/plain": [
       "'hello  sir  i am'"
      ]
     },
     "execution_count": 147,
     "metadata": {},
     "output_type": "execute_result"
    }
   ],
   "source": [
    "#17.expandtabs\n",
    "a=\"hello\\t\\tsir\\t\\ti\\tam\"\n",
    "_1=a.expandtabs(1)\n",
    "_1\n"
   ]
  },
  {
   "cell_type": "code",
   "execution_count": 153,
   "id": "c43ea145-a477-4f0e-a345-bec9c49c0693",
   "metadata": {},
   "outputs": [
    {
     "data": {
      "text/plain": [
       "7"
      ]
     },
     "execution_count": 153,
     "metadata": {},
     "output_type": "execute_result"
    }
   ],
   "source": [
    "#18.find\n",
    "_2=\"i am a super hero\"\n",
    "_a=_2.find(\"super\")\n",
    "_a"
   ]
  },
  {
   "cell_type": "code",
   "execution_count": 173,
   "id": "111df06f-bd63-4897-8ef8-a83c5f88ed78",
   "metadata": {},
   "outputs": [
    {
     "data": {
      "text/plain": [
       "'toys are for children under age 10'"
      ]
     },
     "execution_count": 173,
     "metadata": {},
     "output_type": "execute_result"
    }
   ],
   "source": [
    "#19.format\n",
    "abc=\"toys are for children under age {age}\"\n",
    "_1a=abc.format(age=10)\n",
    "_1a"
   ]
  },
  {
   "cell_type": "code",
   "execution_count": 177,
   "id": "be14d805-d106-44b6-9f8b-4ef2b0823c2c",
   "metadata": {},
   "outputs": [
    {
     "data": {
      "text/plain": [
       "9"
      ]
     },
     "execution_count": 177,
     "metadata": {},
     "output_type": "execute_result"
    }
   ],
   "source": [
    "#20.index\n",
    "bcd=\"superman,batman,spiderman\"\n",
    "_abc=bcd.index(\"b\")\n",
    "_abc"
   ]
  },
  {
   "cell_type": "code",
   "execution_count": 181,
   "id": "bb77daa7-ddd0-4a74-9ee9-e372e1928893",
   "metadata": {},
   "outputs": [
    {
     "data": {
      "text/plain": [
       "True"
      ]
     },
     "execution_count": 181,
     "metadata": {},
     "output_type": "execute_result"
    }
   ],
   "source": [
    "#21.isallnum\n",
    "string1=\"hello1234567890\"\n",
    "is_alpnum=string1.isalnum()\n",
    "is_alpnum"
   ]
  },
  {
   "cell_type": "code",
   "execution_count": 183,
   "id": "4a76bc56-8787-4dbb-8425-20702ed2fc25",
   "metadata": {},
   "outputs": [
    {
     "data": {
      "text/plain": [
       "False"
      ]
     },
     "execution_count": 183,
     "metadata": {},
     "output_type": "execute_result"
    }
   ],
   "source": [
    "#22.isalpha\n",
    "string2=\"hello1234567890\"\n",
    "is_alpha=string2.isalpha()\n",
    "is_alpha"
   ]
  },
  {
   "cell_type": "code",
   "execution_count": 191,
   "id": "7480b89c-3077-4f5e-9df3-05ef10513f32",
   "metadata": {},
   "outputs": [
    {
     "data": {
      "text/plain": [
       "True"
      ]
     },
     "execution_count": 191,
     "metadata": {},
     "output_type": "execute_result"
    }
   ],
   "source": [
    "#23.isascii\n",
    "string3=\"NUL\"\n",
    "is_ascii=string3.isascii()\n",
    "is_ascii"
   ]
  },
  {
   "cell_type": "code",
   "execution_count": 195,
   "id": "024cee55-f45c-4317-9e0b-6478189be53b",
   "metadata": {},
   "outputs": [
    {
     "data": {
      "text/plain": [
       "True"
      ]
     },
     "execution_count": 195,
     "metadata": {},
     "output_type": "execute_result"
    }
   ],
   "source": [
    "#24.isdecimal\n",
    "string4=\"1276215321\"\n",
    "is_decimal=string4.isdecimal()\n",
    "is_decimal"
   ]
  },
  {
   "cell_type": "code",
   "execution_count": 199,
   "id": "7ae09f82-1564-4eea-9f9a-39588c16c7c5",
   "metadata": {},
   "outputs": [
    {
     "data": {
      "text/plain": [
       "True"
      ]
     },
     "execution_count": 199,
     "metadata": {},
     "output_type": "execute_result"
    }
   ],
   "source": [
    "#25.isdigit\n",
    "string5=\"1276215321\"\n",
    "is_digit=string5.isdigit()\n",
    "is_digit"
   ]
  },
  {
   "cell_type": "code",
   "execution_count": 203,
   "id": "7fa1eaf8-c666-4951-b4b6-8a1b38e082a9",
   "metadata": {},
   "outputs": [
    {
     "data": {
      "text/plain": [
       "True"
      ]
     },
     "execution_count": 203,
     "metadata": {},
     "output_type": "execute_result"
    }
   ],
   "source": [
    "#26.isidentifier\n",
    "string6=\"DEMO1\"\n",
    "is_identifier=string6.isidentifier()\n",
    "is_identifier"
   ]
  },
  {
   "cell_type": "code",
   "execution_count": 205,
   "id": "9130d997-99f5-4d77-8a47-a7b51f520420",
   "metadata": {},
   "outputs": [
    {
     "data": {
      "text/plain": [
       "True"
      ]
     },
     "execution_count": 205,
     "metadata": {},
     "output_type": "execute_result"
    }
   ],
   "source": [
    "#27.islower\n",
    "string7=\"mother\"\n",
    "is_lower=string7.islower()\n",
    "is_lower"
   ]
  },
  {
   "cell_type": "code",
   "execution_count": 209,
   "id": "39192338-6c4a-42c8-a663-dbaaa5fad2f9",
   "metadata": {},
   "outputs": [
    {
     "data": {
      "text/plain": [
       "True"
      ]
     },
     "execution_count": 209,
     "metadata": {},
     "output_type": "execute_result"
    }
   ],
   "source": [
    "#27.isupper\n",
    "string7=\"MOTHER\"\n",
    "is_upper=string7.isupper()\n",
    "is_upper"
   ]
  },
  {
   "cell_type": "code",
   "execution_count": 211,
   "id": "7d365ae8-5f38-4551-aa8f-dab82b7c156b",
   "metadata": {},
   "outputs": [
    {
     "data": {
      "text/plain": [
       "True"
      ]
     },
     "execution_count": 211,
     "metadata": {},
     "output_type": "execute_result"
    }
   ],
   "source": [
    "#28.isnumeric\n",
    "string8=\"7613899012303823723792739127317271292303702\"\n",
    "is_numeric=string8.isnumeric()\n",
    "is_numeric"
   ]
  },
  {
   "cell_type": "code",
   "execution_count": 221,
   "id": "cc4254d1-0b5c-4eee-9b59-bc26812b6ebd",
   "metadata": {},
   "outputs": [
    {
     "data": {
      "text/plain": [
       "False"
      ]
     },
     "execution_count": 221,
     "metadata": {},
     "output_type": "execute_result"
    }
   ],
   "source": [
    "#29.isprintable\n",
    "string9=\"\\t \"\n",
    "is_printable=string9.isprintable()\n",
    "is_printable"
   ]
  },
  {
   "cell_type": "code",
   "execution_count": 233,
   "id": "31b47078-5efc-4997-b29e-ce70e12a89ef",
   "metadata": {},
   "outputs": [
    {
     "data": {
      "text/plain": [
       "True"
      ]
     },
     "execution_count": 233,
     "metadata": {},
     "output_type": "execute_result"
    }
   ],
   "source": [
    "#30.isspace\n",
    "string10=\"   \"\n",
    "is_space=string10.isspace()\n",
    "is_space"
   ]
  },
  {
   "cell_type": "code",
   "execution_count": 235,
   "id": "3ae66346-cf83-4cdc-9f73-610e6fc6c778",
   "metadata": {},
   "outputs": [
    {
     "data": {
      "text/plain": [
       "True"
      ]
     },
     "execution_count": 235,
     "metadata": {},
     "output_type": "execute_result"
    }
   ],
   "source": [
    "#31.istitle\n",
    "string11=\"The Poet\"\n",
    "is_title=string11.istitle()\n",
    "is_title"
   ]
  },
  {
   "cell_type": "code",
   "execution_count": 243,
   "id": "66c60b96-c62a-4e70-97b5-63036d12fc2d",
   "metadata": {},
   "outputs": [
    {
     "name": "stdout",
     "output_type": "stream",
     "text": [
      "fruits are so good to eat\n"
     ]
    }
   ],
   "source": [
    "#32.ljust\n",
    "words=\"fruits\"\n",
    "a=words.ljust(6)\n",
    "print(a,\"are so good to eat\")"
   ]
  },
  {
   "cell_type": "code",
   "execution_count": 257,
   "id": "7d6e92dd-67a0-4fe4-bd57-63dad8c8dac3",
   "metadata": {},
   "outputs": [
    {
     "name": "stdout",
     "output_type": "stream",
     "text": [
      "fruits are so good to eat\n"
     ]
    }
   ],
   "source": [
    "#33.rjust\n",
    "words=\"are so good to eat\"\n",
    "a=words.rjust(10)\n",
    "print(\"fruits\",a)"
   ]
  },
  {
   "cell_type": "code",
   "execution_count": 277,
   "id": "1e40bf0b-b820-491e-8dc9-268330f9dccd",
   "metadata": {},
   "outputs": [
    {
     "name": "stdout",
     "output_type": "stream",
     "text": [
      "Hello Ram\n"
     ]
    }
   ],
   "source": [
    "#34.maketrans\n",
    "string = \"Hello sam\"\n",
    "mytable = str.maketrans(\"s\", \"R\")\n",
    "print(string.translate(mytable))"
   ]
  },
  {
   "cell_type": "code",
   "execution_count": 279,
   "id": "d9f6f928-fd9e-46e9-a373-630c0fef3ece",
   "metadata": {},
   "outputs": [
    {
     "data": {
      "text/plain": [
       "('Hello ram ', \"i'm\", ' Niranjan')"
      ]
     },
     "execution_count": 279,
     "metadata": {},
     "output_type": "execute_result"
    }
   ],
   "source": [
    "#35.partition\n",
    "string = \"Hello ram i'm Niranjan\"\n",
    "x=string.partition(\"i'm\")\n",
    "x"
   ]
  },
  {
   "cell_type": "code",
   "execution_count": 283,
   "id": "2ba00bf2-e5d7-4a2f-aad9-4b8a593060c3",
   "metadata": {},
   "outputs": [
    {
     "data": {
      "text/plain": [
       "24"
      ]
     },
     "execution_count": 283,
     "metadata": {},
     "output_type": "execute_result"
    }
   ],
   "source": [
    "#36.rfind\n",
    "string = \"Hello ram i'm Niranjan, i'm an engineer\"\n",
    "x=string.rfind(\"i'm\")\n",
    "x"
   ]
  },
  {
   "cell_type": "code",
   "execution_count": 285,
   "id": "318d1f32-8451-4c7b-bbc7-b9716b0df1c6",
   "metadata": {},
   "outputs": [
    {
     "data": {
      "text/plain": [
       "24"
      ]
     },
     "execution_count": 285,
     "metadata": {},
     "output_type": "execute_result"
    }
   ],
   "source": [
    "#37.rindex\n",
    "string = \"Hello ram i'm Niranjan, i'm an engineer\"\n",
    "x=string.rindex(\"i'm\")\n",
    "x"
   ]
  },
  {
   "cell_type": "code",
   "execution_count": 297,
   "id": "3396e721-0d1a-4ecf-b0cd-2afdaddcccc9",
   "metadata": {},
   "outputs": [
    {
     "data": {
      "text/plain": [
       "(\"Hello ram i'm Niranjan, \", \"i'm\", ' an engineer')"
      ]
     },
     "execution_count": 297,
     "metadata": {},
     "output_type": "execute_result"
    }
   ],
   "source": [
    "#38.rpartition\n",
    "string = \"Hello ram i'm Niranjan, i'm an engineer\"\n",
    "x=string.rpartition(\"i'm\")\n",
    "x"
   ]
  },
  {
   "cell_type": "code",
   "execution_count": 299,
   "id": "3f8dd84c-9e7c-45e0-b7a2-12c8b9e1a032",
   "metadata": {},
   "outputs": [
    {
     "data": {
      "text/plain": [
       "['Hello', 'ram', \"i'm\", 'Niranjan,', \"i'm\", 'an', 'engineer']"
      ]
     },
     "execution_count": 299,
     "metadata": {},
     "output_type": "execute_result"
    }
   ],
   "source": [
    "#39.rsplit\n",
    "string = \"Hello ram i'm Niranjan, i'm an engineer\"\n",
    "x=string.rsplit(\" \")\n",
    "x"
   ]
  },
  {
   "cell_type": "code",
   "execution_count": 313,
   "id": "afe64922-1913-49a5-b1fb-d3d29b298e1c",
   "metadata": {},
   "outputs": [
    {
     "data": {
      "text/plain": [
       "['the man they called hero ', ' is a fraud']"
      ]
     },
     "execution_count": 313,
     "metadata": {},
     "output_type": "execute_result"
    }
   ],
   "source": [
    "#39.splitlines\n",
    "string = \"the man they called hero \\n is a fraud\"\n",
    "x=string.splitlines()\n",
    "x"
   ]
  },
  {
   "cell_type": "code",
   "execution_count": 317,
   "id": "8c168c2f-5e68-435f-a53b-65c52eb021f8",
   "metadata": {},
   "outputs": [
    {
     "data": {
      "text/plain": [
       "True"
      ]
     },
     "execution_count": 317,
     "metadata": {},
     "output_type": "execute_result"
    }
   ],
   "source": [
    "#40.startswith\n",
    "var=\"listning to music can improve our mood!\"\n",
    "ans=var.startswith(\"listning\")\n",
    "ans"
   ]
  },
  {
   "cell_type": "code",
   "execution_count": 319,
   "id": "0ee6533c-d6ad-4e19-8c5f-7460b0c6943f",
   "metadata": {},
   "outputs": [
    {
     "name": "stdout",
     "output_type": "stream",
     "text": [
      "Hello Ram\n"
     ]
    }
   ],
   "source": [
    "#41.translate\n",
    "string = \"Hello sam\"\n",
    "my_trans = str.maketrans(\"s\", \"R\")\n",
    "print(string.translate(my_trans))"
   ]
  },
  {
   "cell_type": "code",
   "execution_count": 327,
   "id": "aeebb353-9e19-42d4-873d-72679eba0dcc",
   "metadata": {},
   "outputs": [
    {
     "name": "stdout",
     "output_type": "stream",
     "text": [
      "00000000000000000000000000000000000000000000000000000000000000lohit loves eating food and having fun\n"
     ]
    }
   ],
   "source": [
    "#42.zfill\n",
    "x=\"lohit loves eating food and having fun\"\n",
    "print(x.zfill(100))\n",
    "print(x.zfill(10"
   ]
  },
  {
   "cell_type": "code",
   "execution_count": null,
   "id": "4f5c6aed-ad2d-4848-b1a1-07ae934de90e",
   "metadata": {},
   "outputs": [],
   "source": []
  }
 ],
 "metadata": {
  "kernelspec": {
   "display_name": "Python 3 (ipykernel)",
   "language": "python",
   "name": "python3"
  },
  "language_info": {
   "codemirror_mode": {
    "name": "ipython",
    "version": 3
   },
   "file_extension": ".py",
   "mimetype": "text/x-python",
   "name": "python",
   "nbconvert_exporter": "python",
   "pygments_lexer": "ipython3",
   "version": "3.12.4"
  }
 },
 "nbformat": 4,
 "nbformat_minor": 5
}
