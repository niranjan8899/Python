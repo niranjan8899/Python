{
 "cells": [
  {
   "cell_type": "code",
   "execution_count": 7,
   "id": "e6c0dd0a-5aac-4060-a6d5-a13db5ae8669",
   "metadata": {},
   "outputs": [
    {
     "name": "stdout",
     "output_type": "stream",
     "text": [
      "Niranjan\n",
      "21\n",
      "{'name': 'Niranjan', 'age': 21, 'gender': 'male', 'country': 'India'}\n"
     ]
    }
   ],
   "source": [
    "#Creating an empty dictionary\n",
    "dict={}\n",
    "\n",
    "#creating a dictionary\n",
    "dict_1={\"name\":\"Niranjan\",'age':21,'gender':'male'}\n",
    "\n",
    "#accesing elements in dictionary\n",
    "print(dict_1[\"name\"])\n",
    "print(dict_1['age'])\n",
    "\n",
    "#adding values to dictionary\n",
    "dict_1['country']=\"India\"\n",
    "print(dict_1)"
   ]
  },
  {
   "cell_type": "code",
   "execution_count": 11,
   "id": "adc03816-97af-4a1c-905f-e076936a29a4",
   "metadata": {},
   "outputs": [
    {
     "data": {
      "text/plain": [
       "'lohit'"
      ]
     },
     "execution_count": 11,
     "metadata": {},
     "output_type": "execute_result"
    }
   ],
   "source": [
    "#dictionary methods\n",
    "#1.get\n",
    "marks={'name':'lohit','class':10,'marks':20}\n",
    "a=marks.get('name')\n",
    "a"
   ]
  },
  {
   "cell_type": "code",
   "execution_count": 17,
   "id": "713cf10a-b92c-47f0-a390-b3e2ffb60fc6",
   "metadata": {},
   "outputs": [
    {
     "name": "stdout",
     "output_type": "stream",
     "text": [
      "dict_keys(['name', 'class', 'marks'])\n"
     ]
    }
   ],
   "source": [
    "#2.key\n",
    "marks={'name':'lohit','class':10,'marks':20}\n",
    "print(marks.keys())"
   ]
  },
  {
   "cell_type": "code",
   "execution_count": 19,
   "id": "149efb09-6eb1-4a9c-87f6-47e2b703b52d",
   "metadata": {},
   "outputs": [
    {
     "name": "stdout",
     "output_type": "stream",
     "text": [
      "dict_values(['lohit', 10, 20])\n"
     ]
    }
   ],
   "source": [
    "#3.values\n",
    "marks={'name':'lohit','class':10,'marks':20}\n",
    "print(marks.values())\n"
   ]
  },
  {
   "cell_type": "code",
   "execution_count": 21,
   "id": "a737d811-b93d-40fa-a9fd-a5fb6b8e6057",
   "metadata": {},
   "outputs": [
    {
     "name": "stdout",
     "output_type": "stream",
     "text": [
      "dict_items([('name', 'lohit'), ('class', 10), ('marks', 20)])\n"
     ]
    }
   ],
   "source": [
    "#4.items\n",
    "marks={'name':'lohit','class':10,'marks':20}\n",
    "print(marks.items())"
   ]
  },
  {
   "cell_type": "code",
   "execution_count": 25,
   "id": "99f7e128-ce96-4026-9655-99efd770d9c2",
   "metadata": {},
   "outputs": [
    {
     "name": "stdout",
     "output_type": "stream",
     "text": [
      "100\n"
     ]
    },
    {
     "ename": "TypeError",
     "evalue": "pop expected at least 1 argument, got 0",
     "output_type": "error",
     "traceback": [
      "\u001b[0;31m---------------------------------------------------------------------------\u001b[0m",
      "\u001b[0;31mTypeError\u001b[0m                                 Traceback (most recent call last)",
      "Cell \u001b[0;32mIn[25], line 5\u001b[0m\n\u001b[1;32m      3\u001b[0m \u001b[38;5;28mprint\u001b[39m(hospital\u001b[38;5;241m.\u001b[39mpop(\u001b[38;5;124m'\u001b[39m\u001b[38;5;124mfloors\u001b[39m\u001b[38;5;124m'\u001b[39m))\n\u001b[1;32m      4\u001b[0m \u001b[38;5;66;03m#gives error when we do not pass any argument in pop()\u001b[39;00m\n\u001b[0;32m----> 5\u001b[0m \u001b[38;5;28mprint\u001b[39m(hospital\u001b[38;5;241m.\u001b[39mpop())\n",
      "\u001b[0;31mTypeError\u001b[0m: pop expected at least 1 argument, got 0"
     ]
    }
   ],
   "source": [
    "#5.pop()\n",
    "hospital={'name':'lohit trust hospitals','area':'heaven','floors':100}\n",
    "print(hospital.pop('floors'))\n",
    "#gives error when we do not pass any argument in pop()\n",
    "print(hospital.pop())"
   ]
  },
  {
   "cell_type": "code",
   "execution_count": 29,
   "id": "327490cb-c956-4f52-bffe-9ca034d3f50a",
   "metadata": {},
   "outputs": [
    {
     "name": "stdout",
     "output_type": "stream",
     "text": [
      "('floors', 100)\n"
     ]
    }
   ],
   "source": [
    "#6.popitem\n",
    "#removes the last item in a dictionary\n",
    "hospital={'name':'lohit trust hospitals','area':'heaven','floors':100}\n",
    "print(hospital.popitem())"
   ]
  },
  {
   "cell_type": "code",
   "execution_count": 33,
   "id": "fb51c215-9fc5-4f36-b5c7-d9979046ca9b",
   "metadata": {},
   "outputs": [
    {
     "data": {
      "text/plain": [
       "{'name': 'lohit trust hospitals',\n",
       " 'area': 'heaven',\n",
       " 'floors': 100,\n",
       " 'no.of patients': 1,\n",
       " 'diseases': 'lukemia'}"
      ]
     },
     "execution_count": 33,
     "metadata": {},
     "output_type": "execute_result"
    }
   ],
   "source": [
    "#7.update\n",
    "hospital={'name':'lohit trust hospitals','area':'heaven','floors':100}\n",
    "patients={'no.of patients':1,'diseases':'lukemia'}\n",
    "hospital.update(patients)\n",
    "hospital"
   ]
  },
  {
   "cell_type": "code",
   "execution_count": 37,
   "id": "2b885dc8-ec09-4d3c-9b37-fc9c2d304e03",
   "metadata": {},
   "outputs": [
    {
     "name": "stdout",
     "output_type": "stream",
     "text": [
      "3\n"
     ]
    }
   ],
   "source": [
    "#8.len\n",
    "hospital={'name':'lohit trust hospitals','area':'heaven','floors':100}\n",
    "print(len(hospital))"
   ]
  },
  {
   "cell_type": "code",
   "execution_count": 39,
   "id": "bb741774-5d8f-4b5d-b74e-705a38b22125",
   "metadata": {},
   "outputs": [
    {
     "name": "stdout",
     "output_type": "stream",
     "text": [
      "None\n"
     ]
    }
   ],
   "source": [
    "#9.clear\n",
    "hospital={'name':'lohit trust hospitals','area':'heaven','floors':100}\n",
    "print(hospital.clear())"
   ]
  },
  {
   "cell_type": "code",
   "execution_count": 41,
   "id": "a6667778-3c21-45dd-83f3-87a9ea31c7b8",
   "metadata": {},
   "outputs": [
    {
     "data": {
      "text/plain": [
       "{'name': 'lohit trust hospitals', 'area': 'heaven', 'floors': 100}"
      ]
     },
     "execution_count": 41,
     "metadata": {},
     "output_type": "execute_result"
    }
   ],
   "source": [
    "#10.copy\n",
    "hospital={'name':'lohit trust hospitals','area':'heaven','floors':100}\n",
    "new_data=hospital.copy()\n",
    "new_data"
   ]
  },
  {
   "cell_type": "code",
   "execution_count": 53,
   "id": "e30d5ea4-c833-4665-961b-ffcd0f230c8c",
   "metadata": {},
   "outputs": [
    {
     "name": "stdout",
     "output_type": "stream",
     "text": [
      "{'name': 'lohit trust hospitals', 'area': 'heaven', 'floors': 100, 'reson': 'Not found'}\n",
      "Not found\n"
     ]
    }
   ],
   "source": [
    "#11.setdefault\n",
    "hospital={'name':'lohit trust hospitals','area':'heaven','floors':100}\n",
    "x=hospital.setdefault(\"reson\",\"Not found\")\n",
    "print(hospital)\n",
    "print(x)"
   ]
  },
  {
   "cell_type": "code",
   "execution_count": 57,
   "id": "1faebbfb-e692-48da-bc91-96d878ca5f7e",
   "metadata": {},
   "outputs": [
    {
     "ename": "AttributeError",
     "evalue": "'set' object has no attribute 'fromkeys'",
     "output_type": "error",
     "traceback": [
      "\u001b[0;31m---------------------------------------------------------------------------\u001b[0m",
      "\u001b[0;31mAttributeError\u001b[0m                            Traceback (most recent call last)",
      "Cell \u001b[0;32mIn[57], line 3\u001b[0m\n\u001b[1;32m      1\u001b[0m \u001b[38;5;66;03m#fromkeys\u001b[39;00m\n\u001b[1;32m      2\u001b[0m marks\u001b[38;5;241m=\u001b[39m{\u001b[38;5;124m\"\u001b[39m\u001b[38;5;124mmaths\u001b[39m\u001b[38;5;124m\"\u001b[39m,\u001b[38;5;124m'\u001b[39m\u001b[38;5;124mphysics\u001b[39m\u001b[38;5;124m'\u001b[39m,\u001b[38;5;124m'\u001b[39m\u001b[38;5;124mchemistry\u001b[39m\u001b[38;5;124m'\u001b[39m}\n\u001b[0;32m----> 3\u001b[0m marks\u001b[38;5;241m.\u001b[39mfromkeys(marks,\u001b[38;5;241m0\u001b[39m)\n\u001b[1;32m      4\u001b[0m marks\n",
      "\u001b[0;31mAttributeError\u001b[0m: 'set' object has no attribute 'fromkeys'"
     ]
    }
   ],
   "source": [
    "#fromkeys\n",
    "marks={\"maths\",'physics','chemistry'}\n",
    "marks.fromkeys(marks,0)\n",
    "marks"
   ]
  },
  {
   "cell_type": "code",
   "execution_count": null,
   "id": "9bb454e0-1420-4d73-9374-76a40f434843",
   "metadata": {},
   "outputs": [],
   "source": []
  }
 ],
 "metadata": {
  "kernelspec": {
   "display_name": "Python 3 (ipykernel)",
   "language": "python",
   "name": "python3"
  },
  "language_info": {
   "codemirror_mode": {
    "name": "ipython",
    "version": 3
   },
   "file_extension": ".py",
   "mimetype": "text/x-python",
   "name": "python",
   "nbconvert_exporter": "python",
   "pygments_lexer": "ipython3",
   "version": "3.12.4"
  }
 },
 "nbformat": 4,
 "nbformat_minor": 5
}
